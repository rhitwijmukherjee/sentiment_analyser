{
 "cells": [
  {
   "cell_type": "markdown",
   "id": "4d1c236c",
   "metadata": {},
   "source": [
    "## ***loading dataset***"
   ]
  },
  {
   "cell_type": "code",
   "execution_count": 1,
   "id": "65528614",
   "metadata": {},
   "outputs": [],
   "source": [
    "import pandas as pd"
   ]
  },
  {
   "cell_type": "code",
   "execution_count": 2,
   "id": "8e47b00e",
   "metadata": {},
   "outputs": [
    {
     "data": {
      "text/html": [
       "<div>\n",
       "<style scoped>\n",
       "    .dataframe tbody tr th:only-of-type {\n",
       "        vertical-align: middle;\n",
       "    }\n",
       "\n",
       "    .dataframe tbody tr th {\n",
       "        vertical-align: top;\n",
       "    }\n",
       "\n",
       "    .dataframe thead th {\n",
       "        text-align: right;\n",
       "    }\n",
       "</style>\n",
       "<table border=\"1\" class=\"dataframe\">\n",
       "  <thead>\n",
       "    <tr style=\"text-align: right;\">\n",
       "      <th></th>\n",
       "      <th>UserName</th>\n",
       "      <th>ScreenName</th>\n",
       "      <th>Location</th>\n",
       "      <th>TweetAt</th>\n",
       "      <th>OriginalTweet</th>\n",
       "      <th>Sentiment</th>\n",
       "    </tr>\n",
       "  </thead>\n",
       "  <tbody>\n",
       "    <tr>\n",
       "      <th>0</th>\n",
       "      <td>3799</td>\n",
       "      <td>48751</td>\n",
       "      <td>London</td>\n",
       "      <td>16-03-2020</td>\n",
       "      <td>@MeNyrbie @Phil_Gahan @Chrisitv https://t.co/i...</td>\n",
       "      <td>Neutral</td>\n",
       "    </tr>\n",
       "    <tr>\n",
       "      <th>1</th>\n",
       "      <td>3800</td>\n",
       "      <td>48752</td>\n",
       "      <td>UK</td>\n",
       "      <td>16-03-2020</td>\n",
       "      <td>advice Talk to your neighbours family to excha...</td>\n",
       "      <td>Positive</td>\n",
       "    </tr>\n",
       "    <tr>\n",
       "      <th>2</th>\n",
       "      <td>3801</td>\n",
       "      <td>48753</td>\n",
       "      <td>Vagabonds</td>\n",
       "      <td>16-03-2020</td>\n",
       "      <td>Coronavirus Australia: Woolworths to give elde...</td>\n",
       "      <td>Positive</td>\n",
       "    </tr>\n",
       "    <tr>\n",
       "      <th>3</th>\n",
       "      <td>3802</td>\n",
       "      <td>48754</td>\n",
       "      <td>NaN</td>\n",
       "      <td>16-03-2020</td>\n",
       "      <td>My food stock is not the only one which is emp...</td>\n",
       "      <td>Positive</td>\n",
       "    </tr>\n",
       "    <tr>\n",
       "      <th>4</th>\n",
       "      <td>3803</td>\n",
       "      <td>48755</td>\n",
       "      <td>NaN</td>\n",
       "      <td>16-03-2020</td>\n",
       "      <td>Me, ready to go at supermarket during the #COV...</td>\n",
       "      <td>Extremely Negative</td>\n",
       "    </tr>\n",
       "  </tbody>\n",
       "</table>\n",
       "</div>"
      ],
      "text/plain": [
       "   UserName  ScreenName   Location     TweetAt  \\\n",
       "0      3799       48751     London  16-03-2020   \n",
       "1      3800       48752         UK  16-03-2020   \n",
       "2      3801       48753  Vagabonds  16-03-2020   \n",
       "3      3802       48754        NaN  16-03-2020   \n",
       "4      3803       48755        NaN  16-03-2020   \n",
       "\n",
       "                                       OriginalTweet           Sentiment  \n",
       "0  @MeNyrbie @Phil_Gahan @Chrisitv https://t.co/i...             Neutral  \n",
       "1  advice Talk to your neighbours family to excha...            Positive  \n",
       "2  Coronavirus Australia: Woolworths to give elde...            Positive  \n",
       "3  My food stock is not the only one which is emp...            Positive  \n",
       "4  Me, ready to go at supermarket during the #COV...  Extremely Negative  "
      ]
     },
     "execution_count": 2,
     "metadata": {},
     "output_type": "execute_result"
    }
   ],
   "source": [
    "train_df = pd.read_csv('Corona_NLP_train.csv', encoding='latin-1')\n",
    "train_df.head()"
   ]
  },
  {
   "cell_type": "code",
   "execution_count": 3,
   "id": "4fa25aa7",
   "metadata": {},
   "outputs": [
    {
     "data": {
      "text/html": [
       "<div>\n",
       "<style scoped>\n",
       "    .dataframe tbody tr th:only-of-type {\n",
       "        vertical-align: middle;\n",
       "    }\n",
       "\n",
       "    .dataframe tbody tr th {\n",
       "        vertical-align: top;\n",
       "    }\n",
       "\n",
       "    .dataframe thead th {\n",
       "        text-align: right;\n",
       "    }\n",
       "</style>\n",
       "<table border=\"1\" class=\"dataframe\">\n",
       "  <thead>\n",
       "    <tr style=\"text-align: right;\">\n",
       "      <th></th>\n",
       "      <th>UserName</th>\n",
       "      <th>ScreenName</th>\n",
       "      <th>Location</th>\n",
       "      <th>TweetAt</th>\n",
       "      <th>OriginalTweet</th>\n",
       "      <th>Sentiment</th>\n",
       "    </tr>\n",
       "  </thead>\n",
       "  <tbody>\n",
       "    <tr>\n",
       "      <th>0</th>\n",
       "      <td>1</td>\n",
       "      <td>44953</td>\n",
       "      <td>NYC</td>\n",
       "      <td>02-03-2020</td>\n",
       "      <td>TRENDING: New Yorkers encounter empty supermar...</td>\n",
       "      <td>Extremely Negative</td>\n",
       "    </tr>\n",
       "    <tr>\n",
       "      <th>1</th>\n",
       "      <td>2</td>\n",
       "      <td>44954</td>\n",
       "      <td>Seattle, WA</td>\n",
       "      <td>02-03-2020</td>\n",
       "      <td>When I couldn't find hand sanitizer at Fred Me...</td>\n",
       "      <td>Positive</td>\n",
       "    </tr>\n",
       "    <tr>\n",
       "      <th>2</th>\n",
       "      <td>3</td>\n",
       "      <td>44955</td>\n",
       "      <td>NaN</td>\n",
       "      <td>02-03-2020</td>\n",
       "      <td>Find out how you can protect yourself and love...</td>\n",
       "      <td>Extremely Positive</td>\n",
       "    </tr>\n",
       "    <tr>\n",
       "      <th>3</th>\n",
       "      <td>4</td>\n",
       "      <td>44956</td>\n",
       "      <td>Chicagoland</td>\n",
       "      <td>02-03-2020</td>\n",
       "      <td>#Panic buying hits #NewYork City as anxious sh...</td>\n",
       "      <td>Negative</td>\n",
       "    </tr>\n",
       "    <tr>\n",
       "      <th>4</th>\n",
       "      <td>5</td>\n",
       "      <td>44957</td>\n",
       "      <td>Melbourne, Victoria</td>\n",
       "      <td>03-03-2020</td>\n",
       "      <td>#toiletpaper #dunnypaper #coronavirus #coronav...</td>\n",
       "      <td>Neutral</td>\n",
       "    </tr>\n",
       "  </tbody>\n",
       "</table>\n",
       "</div>"
      ],
      "text/plain": [
       "   UserName  ScreenName             Location     TweetAt  \\\n",
       "0         1       44953                  NYC  02-03-2020   \n",
       "1         2       44954          Seattle, WA  02-03-2020   \n",
       "2         3       44955                  NaN  02-03-2020   \n",
       "3         4       44956          Chicagoland  02-03-2020   \n",
       "4         5       44957  Melbourne, Victoria  03-03-2020   \n",
       "\n",
       "                                       OriginalTweet           Sentiment  \n",
       "0  TRENDING: New Yorkers encounter empty supermar...  Extremely Negative  \n",
       "1  When I couldn't find hand sanitizer at Fred Me...            Positive  \n",
       "2  Find out how you can protect yourself and love...  Extremely Positive  \n",
       "3  #Panic buying hits #NewYork City as anxious sh...            Negative  \n",
       "4  #toiletpaper #dunnypaper #coronavirus #coronav...             Neutral  "
      ]
     },
     "execution_count": 3,
     "metadata": {},
     "output_type": "execute_result"
    }
   ],
   "source": [
    "test_df = pd.read_csv('Corona_NLP_test.csv', encoding='latin-1')\n",
    "test_df.head()"
   ]
  },
  {
   "cell_type": "markdown",
   "id": "bc05d3a3",
   "metadata": {},
   "source": [
    "# ***Feature engineering and EDA***"
   ]
  },
  {
   "cell_type": "markdown",
   "id": "0f4b5947",
   "metadata": {},
   "source": [
    "### ***Removing emojis***"
   ]
  },
  {
   "cell_type": "code",
   "execution_count": 4,
   "id": "2e503298",
   "metadata": {},
   "outputs": [],
   "source": [
    "import re\n",
    "# removing emojis\n",
    "def remove_emoji(text):\n",
    "    \"\"\"\n",
    "    This function removes emojis from text using regex.\n",
    "    \"\"\"\n",
    "    emoji_pattern = re.compile(\"[\"\n",
    "        u\"\\U0001F600-\\U0001F64F\"  # emoticons\n",
    "        u\"\\U0001F300-\\U0001F5FF\"  # symbols & pictographs\n",
    "        u\"\\U0001F680-\\U0001F6FF\"  # transport & map symbols\n",
    "        u\"\\U0001F1E0-\\U0001F1FF\"  # flags (iOS)\n",
    "                           \"]+\", flags=re.UNICODE)\n",
    "    \n",
    "    return emoji_pattern.sub(r'', text)\n",
    "\n",
    "# # Example usage\n",
    "# text_with_emoji = \"I am so happy 😊\"\n",
    "# text_without_emoji = remove_emoji(text_with_emoji)\n",
    "# print(text_without_emoji)  # Output: I am so happy"
   ]
  },
  {
   "cell_type": "code",
   "execution_count": 5,
   "id": "0bd67255",
   "metadata": {},
   "outputs": [],
   "source": [
    "train_df['OriginalTweet'] = train_df['OriginalTweet'].apply(lambda x: remove_emoji(x))"
   ]
  },
  {
   "cell_type": "markdown",
   "id": "51ebc0cd",
   "metadata": {},
   "source": [
    "### ***Removing links, emails, mentions***"
   ]
  },
  {
   "cell_type": "code",
   "execution_count": 6,
   "id": "254b45a0",
   "metadata": {},
   "outputs": [],
   "source": [
    "import re\n",
    "\n",
    "def remove_links(text):\n",
    "    \"\"\"\n",
    "    This function removes URLs from text using regex.\n",
    "    \"\"\"\n",
    "    url_pattern = re.compile(r'https?://\\S+|www\\.\\S+')\n",
    "    return url_pattern.sub(r'', text)\n",
    "\n",
    "def remove_emails(text):\n",
    "    \"\"\"\n",
    "    This function removes email addresses from text using regex.\n",
    "    \"\"\"\n",
    "    email_pattern = re.compile(r'\\S+@\\S+')\n",
    "    email_pattern = re.compile(r'\\S+@\\S+')\n",
    "    return email_pattern.sub(r'', text)\n",
    "\n",
    "def remove_mentions(text):\n",
    "    \"\"\"\n",
    "    This function removes words with '@' symbol from text using regex.\n",
    "    \"\"\"\n",
    "    mention_pattern = re.compile(r'@\\w+')\n",
    "    return mention_pattern.sub(r'', text)\n",
    "\n",
    "# # Example usage\n",
    "# text_with_links = \"Check out this cool website: https://www.example.com\"\n",
    "# text_without_links = remove_links(text_with_links)\n",
    "# print(text_without_links)  # Output: Check out this cool website:\n",
    "\n",
    "# text_with_emails = \"Contact me at john@example.com for more information\"\n",
    "# text_without_emails = remove_emails(text_with_emails)\n",
    "# print(text_without_emails)  # Output: Contact me at  for more information\n",
    "\n",
    "# # Example usage\n",
    "# text_with_mentions = \"Hey @john, did you see my message?\"\n",
    "# text_without_mentions = remove_mentions(text_with_mentions)\n",
    "# print(text_without_mentions)  # Output: Hey , did you see my message?"
   ]
  },
  {
   "cell_type": "code",
   "execution_count": 7,
   "id": "cc5a480f",
   "metadata": {},
   "outputs": [],
   "source": [
    "train_df['OriginalTweet'] = train_df['OriginalTweet'].apply(lambda x: remove_links(x))\n",
    "train_df['OriginalTweet'] = train_df['OriginalTweet'].apply(lambda x: remove_emails(x))\n",
    "train_df['OriginalTweet'] = train_df['OriginalTweet'].apply(lambda x: remove_mentions(x))"
   ]
  },
  {
   "cell_type": "code",
   "execution_count": 8,
   "id": "ae27a9b4",
   "metadata": {},
   "outputs": [
    {
     "data": {
      "text/html": [
       "<div>\n",
       "<style scoped>\n",
       "    .dataframe tbody tr th:only-of-type {\n",
       "        vertical-align: middle;\n",
       "    }\n",
       "\n",
       "    .dataframe tbody tr th {\n",
       "        vertical-align: top;\n",
       "    }\n",
       "\n",
       "    .dataframe thead th {\n",
       "        text-align: right;\n",
       "    }\n",
       "</style>\n",
       "<table border=\"1\" class=\"dataframe\">\n",
       "  <thead>\n",
       "    <tr style=\"text-align: right;\">\n",
       "      <th></th>\n",
       "      <th>UserName</th>\n",
       "      <th>ScreenName</th>\n",
       "      <th>Location</th>\n",
       "      <th>TweetAt</th>\n",
       "      <th>OriginalTweet</th>\n",
       "      <th>Sentiment</th>\n",
       "    </tr>\n",
       "  </thead>\n",
       "  <tbody>\n",
       "    <tr>\n",
       "      <th>0</th>\n",
       "      <td>3799</td>\n",
       "      <td>48751</td>\n",
       "      <td>London</td>\n",
       "      <td>16-03-2020</td>\n",
       "      <td>and  and</td>\n",
       "      <td>Neutral</td>\n",
       "    </tr>\n",
       "    <tr>\n",
       "      <th>1</th>\n",
       "      <td>3800</td>\n",
       "      <td>48752</td>\n",
       "      <td>UK</td>\n",
       "      <td>16-03-2020</td>\n",
       "      <td>advice Talk to your neighbours family to excha...</td>\n",
       "      <td>Positive</td>\n",
       "    </tr>\n",
       "    <tr>\n",
       "      <th>2</th>\n",
       "      <td>3801</td>\n",
       "      <td>48753</td>\n",
       "      <td>Vagabonds</td>\n",
       "      <td>16-03-2020</td>\n",
       "      <td>Coronavirus Australia: Woolworths to give elde...</td>\n",
       "      <td>Positive</td>\n",
       "    </tr>\n",
       "    <tr>\n",
       "      <th>3</th>\n",
       "      <td>3802</td>\n",
       "      <td>48754</td>\n",
       "      <td>NaN</td>\n",
       "      <td>16-03-2020</td>\n",
       "      <td>My food stock is not the only one which is emp...</td>\n",
       "      <td>Positive</td>\n",
       "    </tr>\n",
       "    <tr>\n",
       "      <th>4</th>\n",
       "      <td>3803</td>\n",
       "      <td>48755</td>\n",
       "      <td>NaN</td>\n",
       "      <td>16-03-2020</td>\n",
       "      <td>Me, ready to go at supermarket during the #COV...</td>\n",
       "      <td>Extremely Negative</td>\n",
       "    </tr>\n",
       "    <tr>\n",
       "      <th>...</th>\n",
       "      <td>...</td>\n",
       "      <td>...</td>\n",
       "      <td>...</td>\n",
       "      <td>...</td>\n",
       "      <td>...</td>\n",
       "      <td>...</td>\n",
       "    </tr>\n",
       "    <tr>\n",
       "      <th>41152</th>\n",
       "      <td>44951</td>\n",
       "      <td>89903</td>\n",
       "      <td>Wellington City, New Zealand</td>\n",
       "      <td>14-04-2020</td>\n",
       "      <td>Airline pilots offering to stock supermarket s...</td>\n",
       "      <td>Neutral</td>\n",
       "    </tr>\n",
       "    <tr>\n",
       "      <th>41153</th>\n",
       "      <td>44952</td>\n",
       "      <td>89904</td>\n",
       "      <td>NaN</td>\n",
       "      <td>14-04-2020</td>\n",
       "      <td>Response to complaint not provided citing COVI...</td>\n",
       "      <td>Extremely Negative</td>\n",
       "    </tr>\n",
       "    <tr>\n",
       "      <th>41154</th>\n",
       "      <td>44953</td>\n",
       "      <td>89905</td>\n",
       "      <td>NaN</td>\n",
       "      <td>14-04-2020</td>\n",
       "      <td>You know itÂs getting tough when   is rationi...</td>\n",
       "      <td>Positive</td>\n",
       "    </tr>\n",
       "    <tr>\n",
       "      <th>41155</th>\n",
       "      <td>44954</td>\n",
       "      <td>89906</td>\n",
       "      <td>NaN</td>\n",
       "      <td>14-04-2020</td>\n",
       "      <td>Is it wrong that the smell of hand sanitizer i...</td>\n",
       "      <td>Neutral</td>\n",
       "    </tr>\n",
       "    <tr>\n",
       "      <th>41156</th>\n",
       "      <td>44955</td>\n",
       "      <td>89907</td>\n",
       "      <td>i love you so much || he/him</td>\n",
       "      <td>14-04-2020</td>\n",
       "      <td>Well new/used Rift S are going for $700.00 on...</td>\n",
       "      <td>Negative</td>\n",
       "    </tr>\n",
       "  </tbody>\n",
       "</table>\n",
       "<p>41157 rows × 6 columns</p>\n",
       "</div>"
      ],
      "text/plain": [
       "       UserName  ScreenName                      Location     TweetAt  \\\n",
       "0          3799       48751                        London  16-03-2020   \n",
       "1          3800       48752                            UK  16-03-2020   \n",
       "2          3801       48753                     Vagabonds  16-03-2020   \n",
       "3          3802       48754                           NaN  16-03-2020   \n",
       "4          3803       48755                           NaN  16-03-2020   \n",
       "...         ...         ...                           ...         ...   \n",
       "41152     44951       89903  Wellington City, New Zealand  14-04-2020   \n",
       "41153     44952       89904                           NaN  14-04-2020   \n",
       "41154     44953       89905                           NaN  14-04-2020   \n",
       "41155     44954       89906                           NaN  14-04-2020   \n",
       "41156     44955       89907  i love you so much || he/him  14-04-2020   \n",
       "\n",
       "                                           OriginalTweet           Sentiment  \n",
       "0                                              and  and              Neutral  \n",
       "1      advice Talk to your neighbours family to excha...            Positive  \n",
       "2      Coronavirus Australia: Woolworths to give elde...            Positive  \n",
       "3      My food stock is not the only one which is emp...            Positive  \n",
       "4      Me, ready to go at supermarket during the #COV...  Extremely Negative  \n",
       "...                                                  ...                 ...  \n",
       "41152  Airline pilots offering to stock supermarket s...             Neutral  \n",
       "41153  Response to complaint not provided citing COVI...  Extremely Negative  \n",
       "41154  You know itÂs getting tough when   is rationi...            Positive  \n",
       "41155  Is it wrong that the smell of hand sanitizer i...             Neutral  \n",
       "41156   Well new/used Rift S are going for $700.00 on...            Negative  \n",
       "\n",
       "[41157 rows x 6 columns]"
      ]
     },
     "execution_count": 8,
     "metadata": {},
     "output_type": "execute_result"
    }
   ],
   "source": [
    "train_df"
   ]
  },
  {
   "cell_type": "markdown",
   "id": "f298d850",
   "metadata": {},
   "source": [
    "### ***cleaning text removing hashtags, special characters, and numbers***"
   ]
  },
  {
   "cell_type": "code",
   "execution_count": 9,
   "id": "b4002489",
   "metadata": {},
   "outputs": [],
   "source": [
    "import re\n",
    "\n",
    "def clean_text(text):\n",
    "    \"\"\"\n",
    "    This function cleans text data by removing hashtags, special characters, and numbers using regex.\n",
    "    \"\"\"\n",
    "    # Remove hashtags\n",
    "    text = re.sub(r'#\\w+', '', text)\n",
    "    # Remove special characters and numbers\n",
    "    text = re.sub(r'[^\\w\\s]', '', text)\n",
    "    # Remove numbers\n",
    "    text = re.sub(r'\\d+', '', text)\n",
    "    # Remove extra whitespaces\n",
    "    text = re.sub(r'\\s+', ' ', text).strip()\n",
    "    return text\n",
    "\n",
    "# # Example usage\n",
    "# text_to_clean = \"Check out this cool #website: https://www.example.com! #cool #awesome 123\"\n",
    "# cleaned_text = clean_text(text_to_clean)\n",
    "# print(cleaned_text)  # Output: Check out this cool website cool awesome"
   ]
  },
  {
   "cell_type": "code",
   "execution_count": 10,
   "id": "6a438271",
   "metadata": {},
   "outputs": [],
   "source": [
    "train_df['OriginalTweet'] = train_df['OriginalTweet'].apply(lambda x: clean_text(x))"
   ]
  },
  {
   "cell_type": "code",
   "execution_count": 11,
   "id": "8a83b77c",
   "metadata": {},
   "outputs": [
    {
     "data": {
      "text/html": [
       "<div>\n",
       "<style scoped>\n",
       "    .dataframe tbody tr th:only-of-type {\n",
       "        vertical-align: middle;\n",
       "    }\n",
       "\n",
       "    .dataframe tbody tr th {\n",
       "        vertical-align: top;\n",
       "    }\n",
       "\n",
       "    .dataframe thead th {\n",
       "        text-align: right;\n",
       "    }\n",
       "</style>\n",
       "<table border=\"1\" class=\"dataframe\">\n",
       "  <thead>\n",
       "    <tr style=\"text-align: right;\">\n",
       "      <th></th>\n",
       "      <th>UserName</th>\n",
       "      <th>ScreenName</th>\n",
       "      <th>Location</th>\n",
       "      <th>TweetAt</th>\n",
       "      <th>OriginalTweet</th>\n",
       "      <th>Sentiment</th>\n",
       "    </tr>\n",
       "  </thead>\n",
       "  <tbody>\n",
       "    <tr>\n",
       "      <th>0</th>\n",
       "      <td>3799</td>\n",
       "      <td>48751</td>\n",
       "      <td>London</td>\n",
       "      <td>16-03-2020</td>\n",
       "      <td>and and</td>\n",
       "      <td>Neutral</td>\n",
       "    </tr>\n",
       "    <tr>\n",
       "      <th>1</th>\n",
       "      <td>3800</td>\n",
       "      <td>48752</td>\n",
       "      <td>UK</td>\n",
       "      <td>16-03-2020</td>\n",
       "      <td>advice Talk to your neighbours family to excha...</td>\n",
       "      <td>Positive</td>\n",
       "    </tr>\n",
       "    <tr>\n",
       "      <th>2</th>\n",
       "      <td>3801</td>\n",
       "      <td>48753</td>\n",
       "      <td>Vagabonds</td>\n",
       "      <td>16-03-2020</td>\n",
       "      <td>Coronavirus Australia Woolworths to give elder...</td>\n",
       "      <td>Positive</td>\n",
       "    </tr>\n",
       "    <tr>\n",
       "      <th>3</th>\n",
       "      <td>3802</td>\n",
       "      <td>48754</td>\n",
       "      <td>NaN</td>\n",
       "      <td>16-03-2020</td>\n",
       "      <td>My food stock is not the only one which is emp...</td>\n",
       "      <td>Positive</td>\n",
       "    </tr>\n",
       "    <tr>\n",
       "      <th>4</th>\n",
       "      <td>3803</td>\n",
       "      <td>48755</td>\n",
       "      <td>NaN</td>\n",
       "      <td>16-03-2020</td>\n",
       "      <td>Me ready to go at supermarket during the outbr...</td>\n",
       "      <td>Extremely Negative</td>\n",
       "    </tr>\n",
       "    <tr>\n",
       "      <th>...</th>\n",
       "      <td>...</td>\n",
       "      <td>...</td>\n",
       "      <td>...</td>\n",
       "      <td>...</td>\n",
       "      <td>...</td>\n",
       "      <td>...</td>\n",
       "    </tr>\n",
       "    <tr>\n",
       "      <th>41152</th>\n",
       "      <td>44951</td>\n",
       "      <td>89903</td>\n",
       "      <td>Wellington City, New Zealand</td>\n",
       "      <td>14-04-2020</td>\n",
       "      <td>Airline pilots offering to stock supermarket s...</td>\n",
       "      <td>Neutral</td>\n",
       "    </tr>\n",
       "    <tr>\n",
       "      <th>41153</th>\n",
       "      <td>44952</td>\n",
       "      <td>89904</td>\n",
       "      <td>NaN</td>\n",
       "      <td>14-04-2020</td>\n",
       "      <td>Response to complaint not provided citing COVI...</td>\n",
       "      <td>Extremely Negative</td>\n",
       "    </tr>\n",
       "    <tr>\n",
       "      <th>41154</th>\n",
       "      <td>44953</td>\n",
       "      <td>89905</td>\n",
       "      <td>NaN</td>\n",
       "      <td>14-04-2020</td>\n",
       "      <td>You know itÂs getting tough when is rationing ...</td>\n",
       "      <td>Positive</td>\n",
       "    </tr>\n",
       "    <tr>\n",
       "      <th>41155</th>\n",
       "      <td>44954</td>\n",
       "      <td>89906</td>\n",
       "      <td>NaN</td>\n",
       "      <td>14-04-2020</td>\n",
       "      <td>Is it wrong that the smell of hand sanitizer i...</td>\n",
       "      <td>Neutral</td>\n",
       "    </tr>\n",
       "    <tr>\n",
       "      <th>41156</th>\n",
       "      <td>44955</td>\n",
       "      <td>89907</td>\n",
       "      <td>i love you so much || he/him</td>\n",
       "      <td>14-04-2020</td>\n",
       "      <td>Well newused Rift S are going for on Amazon rn...</td>\n",
       "      <td>Negative</td>\n",
       "    </tr>\n",
       "  </tbody>\n",
       "</table>\n",
       "<p>41157 rows × 6 columns</p>\n",
       "</div>"
      ],
      "text/plain": [
       "       UserName  ScreenName                      Location     TweetAt  \\\n",
       "0          3799       48751                        London  16-03-2020   \n",
       "1          3800       48752                            UK  16-03-2020   \n",
       "2          3801       48753                     Vagabonds  16-03-2020   \n",
       "3          3802       48754                           NaN  16-03-2020   \n",
       "4          3803       48755                           NaN  16-03-2020   \n",
       "...         ...         ...                           ...         ...   \n",
       "41152     44951       89903  Wellington City, New Zealand  14-04-2020   \n",
       "41153     44952       89904                           NaN  14-04-2020   \n",
       "41154     44953       89905                           NaN  14-04-2020   \n",
       "41155     44954       89906                           NaN  14-04-2020   \n",
       "41156     44955       89907  i love you so much || he/him  14-04-2020   \n",
       "\n",
       "                                           OriginalTweet           Sentiment  \n",
       "0                                                and and             Neutral  \n",
       "1      advice Talk to your neighbours family to excha...            Positive  \n",
       "2      Coronavirus Australia Woolworths to give elder...            Positive  \n",
       "3      My food stock is not the only one which is emp...            Positive  \n",
       "4      Me ready to go at supermarket during the outbr...  Extremely Negative  \n",
       "...                                                  ...                 ...  \n",
       "41152  Airline pilots offering to stock supermarket s...             Neutral  \n",
       "41153  Response to complaint not provided citing COVI...  Extremely Negative  \n",
       "41154  You know itÂs getting tough when is rationing ...            Positive  \n",
       "41155  Is it wrong that the smell of hand sanitizer i...             Neutral  \n",
       "41156  Well newused Rift S are going for on Amazon rn...            Negative  \n",
       "\n",
       "[41157 rows x 6 columns]"
      ]
     },
     "execution_count": 11,
     "metadata": {},
     "output_type": "execute_result"
    }
   ],
   "source": [
    "train_df"
   ]
  },
  {
   "cell_type": "markdown",
   "id": "06f9f41b",
   "metadata": {},
   "source": [
    "### ***removing stopwords and convert strings to lower case***"
   ]
  },
  {
   "cell_type": "code",
   "execution_count": 12,
   "id": "6dbd96fc",
   "metadata": {},
   "outputs": [],
   "source": [
    "from nltk.corpus import stopwords"
   ]
  },
  {
   "cell_type": "code",
   "execution_count": 13,
   "id": "0f687110",
   "metadata": {},
   "outputs": [],
   "source": [
    "# Preprocessing the text data\n",
    "stop_words = set(stopwords.words('english'))\n",
    "train_df['OriginalTweet'] = train_df['OriginalTweet'].apply(lambda x: ' '.join(word for word in x.split() if word not in stop_words))\n",
    "train_df['OriginalTweet'] = train_df['OriginalTweet'].str.lower()"
   ]
  },
  {
   "cell_type": "code",
   "execution_count": 14,
   "id": "2d216b8d",
   "metadata": {},
   "outputs": [
    {
     "data": {
      "text/html": [
       "<div>\n",
       "<style scoped>\n",
       "    .dataframe tbody tr th:only-of-type {\n",
       "        vertical-align: middle;\n",
       "    }\n",
       "\n",
       "    .dataframe tbody tr th {\n",
       "        vertical-align: top;\n",
       "    }\n",
       "\n",
       "    .dataframe thead th {\n",
       "        text-align: right;\n",
       "    }\n",
       "</style>\n",
       "<table border=\"1\" class=\"dataframe\">\n",
       "  <thead>\n",
       "    <tr style=\"text-align: right;\">\n",
       "      <th></th>\n",
       "      <th>UserName</th>\n",
       "      <th>ScreenName</th>\n",
       "      <th>Location</th>\n",
       "      <th>TweetAt</th>\n",
       "      <th>OriginalTweet</th>\n",
       "      <th>Sentiment</th>\n",
       "    </tr>\n",
       "  </thead>\n",
       "  <tbody>\n",
       "    <tr>\n",
       "      <th>0</th>\n",
       "      <td>3799</td>\n",
       "      <td>48751</td>\n",
       "      <td>London</td>\n",
       "      <td>16-03-2020</td>\n",
       "      <td></td>\n",
       "      <td>Neutral</td>\n",
       "    </tr>\n",
       "    <tr>\n",
       "      <th>1</th>\n",
       "      <td>3800</td>\n",
       "      <td>48752</td>\n",
       "      <td>UK</td>\n",
       "      <td>16-03-2020</td>\n",
       "      <td>advice talk neighbours family exchange phone n...</td>\n",
       "      <td>Positive</td>\n",
       "    </tr>\n",
       "    <tr>\n",
       "      <th>2</th>\n",
       "      <td>3801</td>\n",
       "      <td>48753</td>\n",
       "      <td>Vagabonds</td>\n",
       "      <td>16-03-2020</td>\n",
       "      <td>coronavirus australia woolworths give elderly ...</td>\n",
       "      <td>Positive</td>\n",
       "    </tr>\n",
       "    <tr>\n",
       "      <th>3</th>\n",
       "      <td>3802</td>\n",
       "      <td>48754</td>\n",
       "      <td>NaN</td>\n",
       "      <td>16-03-2020</td>\n",
       "      <td>my food stock one empty please dont panic ther...</td>\n",
       "      <td>Positive</td>\n",
       "    </tr>\n",
       "    <tr>\n",
       "      <th>4</th>\n",
       "      <td>3803</td>\n",
       "      <td>48755</td>\n",
       "      <td>NaN</td>\n",
       "      <td>16-03-2020</td>\n",
       "      <td>me ready go supermarket outbreak not im parano...</td>\n",
       "      <td>Extremely Negative</td>\n",
       "    </tr>\n",
       "    <tr>\n",
       "      <th>...</th>\n",
       "      <td>...</td>\n",
       "      <td>...</td>\n",
       "      <td>...</td>\n",
       "      <td>...</td>\n",
       "      <td>...</td>\n",
       "      <td>...</td>\n",
       "    </tr>\n",
       "    <tr>\n",
       "      <th>41152</th>\n",
       "      <td>44951</td>\n",
       "      <td>89903</td>\n",
       "      <td>Wellington City, New Zealand</td>\n",
       "      <td>14-04-2020</td>\n",
       "      <td>airline pilots offering stock supermarket shel...</td>\n",
       "      <td>Neutral</td>\n",
       "    </tr>\n",
       "    <tr>\n",
       "      <th>41153</th>\n",
       "      <td>44952</td>\n",
       "      <td>89904</td>\n",
       "      <td>NaN</td>\n",
       "      <td>14-04-2020</td>\n",
       "      <td>response complaint provided citing covid relat...</td>\n",
       "      <td>Extremely Negative</td>\n",
       "    </tr>\n",
       "    <tr>\n",
       "      <th>41154</th>\n",
       "      <td>44953</td>\n",
       "      <td>89905</td>\n",
       "      <td>NaN</td>\n",
       "      <td>14-04-2020</td>\n",
       "      <td>you know itâs getting tough rationing toilet p...</td>\n",
       "      <td>Positive</td>\n",
       "    </tr>\n",
       "    <tr>\n",
       "      <th>41155</th>\n",
       "      <td>44954</td>\n",
       "      <td>89906</td>\n",
       "      <td>NaN</td>\n",
       "      <td>14-04-2020</td>\n",
       "      <td>is wrong smell hand sanitizer starting turn</td>\n",
       "      <td>Neutral</td>\n",
       "    </tr>\n",
       "    <tr>\n",
       "      <th>41156</th>\n",
       "      <td>44955</td>\n",
       "      <td>89907</td>\n",
       "      <td>i love you so much || he/him</td>\n",
       "      <td>14-04-2020</td>\n",
       "      <td>well newused rift s going amazon rn although n...</td>\n",
       "      <td>Negative</td>\n",
       "    </tr>\n",
       "  </tbody>\n",
       "</table>\n",
       "<p>41157 rows × 6 columns</p>\n",
       "</div>"
      ],
      "text/plain": [
       "       UserName  ScreenName                      Location     TweetAt  \\\n",
       "0          3799       48751                        London  16-03-2020   \n",
       "1          3800       48752                            UK  16-03-2020   \n",
       "2          3801       48753                     Vagabonds  16-03-2020   \n",
       "3          3802       48754                           NaN  16-03-2020   \n",
       "4          3803       48755                           NaN  16-03-2020   \n",
       "...         ...         ...                           ...         ...   \n",
       "41152     44951       89903  Wellington City, New Zealand  14-04-2020   \n",
       "41153     44952       89904                           NaN  14-04-2020   \n",
       "41154     44953       89905                           NaN  14-04-2020   \n",
       "41155     44954       89906                           NaN  14-04-2020   \n",
       "41156     44955       89907  i love you so much || he/him  14-04-2020   \n",
       "\n",
       "                                           OriginalTweet           Sentiment  \n",
       "0                                                                    Neutral  \n",
       "1      advice talk neighbours family exchange phone n...            Positive  \n",
       "2      coronavirus australia woolworths give elderly ...            Positive  \n",
       "3      my food stock one empty please dont panic ther...            Positive  \n",
       "4      me ready go supermarket outbreak not im parano...  Extremely Negative  \n",
       "...                                                  ...                 ...  \n",
       "41152  airline pilots offering stock supermarket shel...             Neutral  \n",
       "41153  response complaint provided citing covid relat...  Extremely Negative  \n",
       "41154  you know itâs getting tough rationing toilet p...            Positive  \n",
       "41155        is wrong smell hand sanitizer starting turn             Neutral  \n",
       "41156  well newused rift s going amazon rn although n...            Negative  \n",
       "\n",
       "[41157 rows x 6 columns]"
      ]
     },
     "execution_count": 14,
     "metadata": {},
     "output_type": "execute_result"
    }
   ],
   "source": [
    "train_df"
   ]
  },
  {
   "cell_type": "markdown",
   "id": "91f48a78",
   "metadata": {},
   "source": [
    "### ***Getting all empty string columns***"
   ]
  },
  {
   "cell_type": "code",
   "execution_count": 15,
   "id": "10c5efd4",
   "metadata": {},
   "outputs": [
    {
     "data": {
      "text/plain": [
       "''"
      ]
     },
     "execution_count": 15,
     "metadata": {},
     "output_type": "execute_result"
    }
   ],
   "source": [
    "train_df['OriginalTweet'][0]"
   ]
  },
  {
   "cell_type": "code",
   "execution_count": 16,
   "id": "5a4e1d0b",
   "metadata": {},
   "outputs": [],
   "source": [
    "#empty tweets col after preprocessing\n",
    "empty_tweets_index = []\n",
    "for i in range(len(train_df['OriginalTweet'])):\n",
    "    if train_df['OriginalTweet'][i] == '':\n",
    "        empty_tweets_index.append(i)"
   ]
  },
  {
   "cell_type": "code",
   "execution_count": 17,
   "id": "2d407e6b",
   "metadata": {},
   "outputs": [],
   "source": [
    "train_df = train_df.drop(empty_tweets_index, axis=0)"
   ]
  },
  {
   "cell_type": "code",
   "execution_count": 18,
   "id": "416bc375",
   "metadata": {},
   "outputs": [
    {
     "data": {
      "text/html": [
       "<div>\n",
       "<style scoped>\n",
       "    .dataframe tbody tr th:only-of-type {\n",
       "        vertical-align: middle;\n",
       "    }\n",
       "\n",
       "    .dataframe tbody tr th {\n",
       "        vertical-align: top;\n",
       "    }\n",
       "\n",
       "    .dataframe thead th {\n",
       "        text-align: right;\n",
       "    }\n",
       "</style>\n",
       "<table border=\"1\" class=\"dataframe\">\n",
       "  <thead>\n",
       "    <tr style=\"text-align: right;\">\n",
       "      <th></th>\n",
       "      <th>UserName</th>\n",
       "      <th>ScreenName</th>\n",
       "      <th>Location</th>\n",
       "      <th>TweetAt</th>\n",
       "      <th>OriginalTweet</th>\n",
       "      <th>Sentiment</th>\n",
       "    </tr>\n",
       "  </thead>\n",
       "  <tbody>\n",
       "    <tr>\n",
       "      <th>1</th>\n",
       "      <td>3800</td>\n",
       "      <td>48752</td>\n",
       "      <td>UK</td>\n",
       "      <td>16-03-2020</td>\n",
       "      <td>advice talk neighbours family exchange phone n...</td>\n",
       "      <td>Positive</td>\n",
       "    </tr>\n",
       "    <tr>\n",
       "      <th>2</th>\n",
       "      <td>3801</td>\n",
       "      <td>48753</td>\n",
       "      <td>Vagabonds</td>\n",
       "      <td>16-03-2020</td>\n",
       "      <td>coronavirus australia woolworths give elderly ...</td>\n",
       "      <td>Positive</td>\n",
       "    </tr>\n",
       "    <tr>\n",
       "      <th>3</th>\n",
       "      <td>3802</td>\n",
       "      <td>48754</td>\n",
       "      <td>NaN</td>\n",
       "      <td>16-03-2020</td>\n",
       "      <td>my food stock one empty please dont panic ther...</td>\n",
       "      <td>Positive</td>\n",
       "    </tr>\n",
       "    <tr>\n",
       "      <th>4</th>\n",
       "      <td>3803</td>\n",
       "      <td>48755</td>\n",
       "      <td>NaN</td>\n",
       "      <td>16-03-2020</td>\n",
       "      <td>me ready go supermarket outbreak not im parano...</td>\n",
       "      <td>Extremely Negative</td>\n",
       "    </tr>\n",
       "    <tr>\n",
       "      <th>5</th>\n",
       "      <td>3804</td>\n",
       "      <td>48756</td>\n",
       "      <td>ÃT: 36.319708,-82.363649</td>\n",
       "      <td>16-03-2020</td>\n",
       "      <td>as news regionâs first confirmed covid case ca...</td>\n",
       "      <td>Positive</td>\n",
       "    </tr>\n",
       "    <tr>\n",
       "      <th>...</th>\n",
       "      <td>...</td>\n",
       "      <td>...</td>\n",
       "      <td>...</td>\n",
       "      <td>...</td>\n",
       "      <td>...</td>\n",
       "      <td>...</td>\n",
       "    </tr>\n",
       "    <tr>\n",
       "      <th>41152</th>\n",
       "      <td>44951</td>\n",
       "      <td>89903</td>\n",
       "      <td>Wellington City, New Zealand</td>\n",
       "      <td>14-04-2020</td>\n",
       "      <td>airline pilots offering stock supermarket shel...</td>\n",
       "      <td>Neutral</td>\n",
       "    </tr>\n",
       "    <tr>\n",
       "      <th>41153</th>\n",
       "      <td>44952</td>\n",
       "      <td>89904</td>\n",
       "      <td>NaN</td>\n",
       "      <td>14-04-2020</td>\n",
       "      <td>response complaint provided citing covid relat...</td>\n",
       "      <td>Extremely Negative</td>\n",
       "    </tr>\n",
       "    <tr>\n",
       "      <th>41154</th>\n",
       "      <td>44953</td>\n",
       "      <td>89905</td>\n",
       "      <td>NaN</td>\n",
       "      <td>14-04-2020</td>\n",
       "      <td>you know itâs getting tough rationing toilet p...</td>\n",
       "      <td>Positive</td>\n",
       "    </tr>\n",
       "    <tr>\n",
       "      <th>41155</th>\n",
       "      <td>44954</td>\n",
       "      <td>89906</td>\n",
       "      <td>NaN</td>\n",
       "      <td>14-04-2020</td>\n",
       "      <td>is wrong smell hand sanitizer starting turn</td>\n",
       "      <td>Neutral</td>\n",
       "    </tr>\n",
       "    <tr>\n",
       "      <th>41156</th>\n",
       "      <td>44955</td>\n",
       "      <td>89907</td>\n",
       "      <td>i love you so much || he/him</td>\n",
       "      <td>14-04-2020</td>\n",
       "      <td>well newused rift s going amazon rn although n...</td>\n",
       "      <td>Negative</td>\n",
       "    </tr>\n",
       "  </tbody>\n",
       "</table>\n",
       "<p>41124 rows × 6 columns</p>\n",
       "</div>"
      ],
      "text/plain": [
       "       UserName  ScreenName                      Location     TweetAt  \\\n",
       "1          3800       48752                            UK  16-03-2020   \n",
       "2          3801       48753                     Vagabonds  16-03-2020   \n",
       "3          3802       48754                           NaN  16-03-2020   \n",
       "4          3803       48755                           NaN  16-03-2020   \n",
       "5          3804       48756     ÃT: 36.319708,-82.363649  16-03-2020   \n",
       "...         ...         ...                           ...         ...   \n",
       "41152     44951       89903  Wellington City, New Zealand  14-04-2020   \n",
       "41153     44952       89904                           NaN  14-04-2020   \n",
       "41154     44953       89905                           NaN  14-04-2020   \n",
       "41155     44954       89906                           NaN  14-04-2020   \n",
       "41156     44955       89907  i love you so much || he/him  14-04-2020   \n",
       "\n",
       "                                           OriginalTweet           Sentiment  \n",
       "1      advice talk neighbours family exchange phone n...            Positive  \n",
       "2      coronavirus australia woolworths give elderly ...            Positive  \n",
       "3      my food stock one empty please dont panic ther...            Positive  \n",
       "4      me ready go supermarket outbreak not im parano...  Extremely Negative  \n",
       "5      as news regionâs first confirmed covid case ca...            Positive  \n",
       "...                                                  ...                 ...  \n",
       "41152  airline pilots offering stock supermarket shel...             Neutral  \n",
       "41153  response complaint provided citing covid relat...  Extremely Negative  \n",
       "41154  you know itâs getting tough rationing toilet p...            Positive  \n",
       "41155        is wrong smell hand sanitizer starting turn             Neutral  \n",
       "41156  well newused rift s going amazon rn although n...            Negative  \n",
       "\n",
       "[41124 rows x 6 columns]"
      ]
     },
     "execution_count": 18,
     "metadata": {},
     "output_type": "execute_result"
    }
   ],
   "source": [
    "train_df"
   ]
  },
  {
   "cell_type": "markdown",
   "id": "1cf96f43",
   "metadata": {},
   "source": [
    "### ***used SentimentIntensityAnalyzer for adding negative, positive, neutral and compound features***"
   ]
  },
  {
   "cell_type": "code",
   "execution_count": 19,
   "id": "ca97fc1d",
   "metadata": {},
   "outputs": [],
   "source": [
    "import nltk\n",
    "from nltk.sentiment.vader import SentimentIntensityAnalyzer"
   ]
  },
  {
   "cell_type": "code",
   "execution_count": 20,
   "id": "dbd3b8f6",
   "metadata": {},
   "outputs": [
    {
     "name": "stderr",
     "output_type": "stream",
     "text": [
      "[nltk_data] Downloading package vader_lexicon to\n",
      "[nltk_data]     C:\\Users\\User\\AppData\\Roaming\\nltk_data...\n",
      "[nltk_data]   Package vader_lexicon is already up-to-date!\n"
     ]
    },
    {
     "data": {
      "text/plain": [
       "True"
      ]
     },
     "execution_count": 20,
     "metadata": {},
     "output_type": "execute_result"
    }
   ],
   "source": [
    "nltk.download('vader_lexicon') #else we will get lookup error."
   ]
  },
  {
   "cell_type": "code",
   "execution_count": 21,
   "id": "1d805bf7",
   "metadata": {},
   "outputs": [],
   "source": [
    "sent = SentimentIntensityAnalyzer()\n",
    "neg = []\n",
    "neu = []\n",
    "pos = []\n",
    "com = []\n",
    "def update(k):\n",
    "    neg.append(k[\"neg\"])\n",
    "    neu.append(k[\"neu\"])\n",
    "    pos.append(k[\"pos\"])\n",
    "    com.append(k[\"compound\"])"
   ]
  },
  {
   "cell_type": "code",
   "execution_count": 22,
   "id": "6dc553b1",
   "metadata": {},
   "outputs": [
    {
     "name": "stderr",
     "output_type": "stream",
     "text": [
      "100%|██████████████████████████████████████████████████████████████████████████| 41124/41124 [00:07<00:00, 5398.57it/s]\n"
     ]
    }
   ],
   "source": [
    "from tqdm import tqdm\n",
    "for i in tqdm(train_df['OriginalTweet']):\n",
    "    update(sent.polarity_scores(i))"
   ]
  },
  {
   "cell_type": "code",
   "execution_count": 23,
   "id": "b1de5ca9",
   "metadata": {},
   "outputs": [],
   "source": [
    "train_df[\"negative\"] = neg\n",
    "train_df[\"neutral\"] = neu\n",
    "train_df[\"positive\"] = pos\n",
    "train_df[\"compound\"] = com"
   ]
  },
  {
   "cell_type": "markdown",
   "id": "c28741ec",
   "metadata": {},
   "source": [
    "### ***After all the preprocessing dataset look like this***"
   ]
  },
  {
   "cell_type": "code",
   "execution_count": 24,
   "id": "4faa80e6",
   "metadata": {},
   "outputs": [
    {
     "data": {
      "text/html": [
       "<div>\n",
       "<style scoped>\n",
       "    .dataframe tbody tr th:only-of-type {\n",
       "        vertical-align: middle;\n",
       "    }\n",
       "\n",
       "    .dataframe tbody tr th {\n",
       "        vertical-align: top;\n",
       "    }\n",
       "\n",
       "    .dataframe thead th {\n",
       "        text-align: right;\n",
       "    }\n",
       "</style>\n",
       "<table border=\"1\" class=\"dataframe\">\n",
       "  <thead>\n",
       "    <tr style=\"text-align: right;\">\n",
       "      <th></th>\n",
       "      <th>UserName</th>\n",
       "      <th>ScreenName</th>\n",
       "      <th>Location</th>\n",
       "      <th>TweetAt</th>\n",
       "      <th>OriginalTweet</th>\n",
       "      <th>Sentiment</th>\n",
       "      <th>negative</th>\n",
       "      <th>neutral</th>\n",
       "      <th>positive</th>\n",
       "      <th>compound</th>\n",
       "    </tr>\n",
       "  </thead>\n",
       "  <tbody>\n",
       "    <tr>\n",
       "      <th>1</th>\n",
       "      <td>3800</td>\n",
       "      <td>48752</td>\n",
       "      <td>UK</td>\n",
       "      <td>16-03-2020</td>\n",
       "      <td>advice talk neighbours family exchange phone n...</td>\n",
       "      <td>Positive</td>\n",
       "      <td>0.000</td>\n",
       "      <td>0.862</td>\n",
       "      <td>0.138</td>\n",
       "      <td>0.4588</td>\n",
       "    </tr>\n",
       "    <tr>\n",
       "      <th>2</th>\n",
       "      <td>3801</td>\n",
       "      <td>48753</td>\n",
       "      <td>Vagabonds</td>\n",
       "      <td>16-03-2020</td>\n",
       "      <td>coronavirus australia woolworths give elderly ...</td>\n",
       "      <td>Positive</td>\n",
       "      <td>0.000</td>\n",
       "      <td>0.786</td>\n",
       "      <td>0.214</td>\n",
       "      <td>0.4588</td>\n",
       "    </tr>\n",
       "    <tr>\n",
       "      <th>3</th>\n",
       "      <td>3802</td>\n",
       "      <td>48754</td>\n",
       "      <td>NaN</td>\n",
       "      <td>16-03-2020</td>\n",
       "      <td>my food stock one empty please dont panic ther...</td>\n",
       "      <td>Positive</td>\n",
       "      <td>0.064</td>\n",
       "      <td>0.571</td>\n",
       "      <td>0.364</td>\n",
       "      <td>0.8127</td>\n",
       "    </tr>\n",
       "    <tr>\n",
       "      <th>4</th>\n",
       "      <td>3803</td>\n",
       "      <td>48755</td>\n",
       "      <td>NaN</td>\n",
       "      <td>16-03-2020</td>\n",
       "      <td>me ready go supermarket outbreak not im parano...</td>\n",
       "      <td>Extremely Negative</td>\n",
       "      <td>0.180</td>\n",
       "      <td>0.494</td>\n",
       "      <td>0.326</td>\n",
       "      <td>0.6300</td>\n",
       "    </tr>\n",
       "    <tr>\n",
       "      <th>5</th>\n",
       "      <td>3804</td>\n",
       "      <td>48756</td>\n",
       "      <td>ÃT: 36.319708,-82.363649</td>\n",
       "      <td>16-03-2020</td>\n",
       "      <td>as news regionâs first confirmed covid case ca...</td>\n",
       "      <td>Positive</td>\n",
       "      <td>0.000</td>\n",
       "      <td>0.887</td>\n",
       "      <td>0.113</td>\n",
       "      <td>0.4939</td>\n",
       "    </tr>\n",
       "    <tr>\n",
       "      <th>...</th>\n",
       "      <td>...</td>\n",
       "      <td>...</td>\n",
       "      <td>...</td>\n",
       "      <td>...</td>\n",
       "      <td>...</td>\n",
       "      <td>...</td>\n",
       "      <td>...</td>\n",
       "      <td>...</td>\n",
       "      <td>...</td>\n",
       "      <td>...</td>\n",
       "    </tr>\n",
       "    <tr>\n",
       "      <th>41152</th>\n",
       "      <td>44951</td>\n",
       "      <td>89903</td>\n",
       "      <td>Wellington City, New Zealand</td>\n",
       "      <td>14-04-2020</td>\n",
       "      <td>airline pilots offering stock supermarket shel...</td>\n",
       "      <td>Neutral</td>\n",
       "      <td>0.000</td>\n",
       "      <td>1.000</td>\n",
       "      <td>0.000</td>\n",
       "      <td>0.0000</td>\n",
       "    </tr>\n",
       "    <tr>\n",
       "      <th>41153</th>\n",
       "      <td>44952</td>\n",
       "      <td>89904</td>\n",
       "      <td>NaN</td>\n",
       "      <td>14-04-2020</td>\n",
       "      <td>response complaint provided citing covid relat...</td>\n",
       "      <td>Extremely Negative</td>\n",
       "      <td>0.286</td>\n",
       "      <td>0.714</td>\n",
       "      <td>0.000</td>\n",
       "      <td>-0.6369</td>\n",
       "    </tr>\n",
       "    <tr>\n",
       "      <th>41154</th>\n",
       "      <td>44953</td>\n",
       "      <td>89905</td>\n",
       "      <td>NaN</td>\n",
       "      <td>14-04-2020</td>\n",
       "      <td>you know itâs getting tough rationing toilet p...</td>\n",
       "      <td>Positive</td>\n",
       "      <td>0.114</td>\n",
       "      <td>0.682</td>\n",
       "      <td>0.205</td>\n",
       "      <td>0.2960</td>\n",
       "    </tr>\n",
       "    <tr>\n",
       "      <th>41155</th>\n",
       "      <td>44954</td>\n",
       "      <td>89906</td>\n",
       "      <td>NaN</td>\n",
       "      <td>14-04-2020</td>\n",
       "      <td>is wrong smell hand sanitizer starting turn</td>\n",
       "      <td>Neutral</td>\n",
       "      <td>0.274</td>\n",
       "      <td>0.442</td>\n",
       "      <td>0.283</td>\n",
       "      <td>0.0258</td>\n",
       "    </tr>\n",
       "    <tr>\n",
       "      <th>41156</th>\n",
       "      <td>44955</td>\n",
       "      <td>89907</td>\n",
       "      <td>i love you so much || he/him</td>\n",
       "      <td>14-04-2020</td>\n",
       "      <td>well newused rift s going amazon rn although n...</td>\n",
       "      <td>Negative</td>\n",
       "      <td>0.189</td>\n",
       "      <td>0.686</td>\n",
       "      <td>0.124</td>\n",
       "      <td>-0.4576</td>\n",
       "    </tr>\n",
       "  </tbody>\n",
       "</table>\n",
       "<p>41124 rows × 10 columns</p>\n",
       "</div>"
      ],
      "text/plain": [
       "       UserName  ScreenName                      Location     TweetAt  \\\n",
       "1          3800       48752                            UK  16-03-2020   \n",
       "2          3801       48753                     Vagabonds  16-03-2020   \n",
       "3          3802       48754                           NaN  16-03-2020   \n",
       "4          3803       48755                           NaN  16-03-2020   \n",
       "5          3804       48756     ÃT: 36.319708,-82.363649  16-03-2020   \n",
       "...         ...         ...                           ...         ...   \n",
       "41152     44951       89903  Wellington City, New Zealand  14-04-2020   \n",
       "41153     44952       89904                           NaN  14-04-2020   \n",
       "41154     44953       89905                           NaN  14-04-2020   \n",
       "41155     44954       89906                           NaN  14-04-2020   \n",
       "41156     44955       89907  i love you so much || he/him  14-04-2020   \n",
       "\n",
       "                                           OriginalTweet           Sentiment  \\\n",
       "1      advice talk neighbours family exchange phone n...            Positive   \n",
       "2      coronavirus australia woolworths give elderly ...            Positive   \n",
       "3      my food stock one empty please dont panic ther...            Positive   \n",
       "4      me ready go supermarket outbreak not im parano...  Extremely Negative   \n",
       "5      as news regionâs first confirmed covid case ca...            Positive   \n",
       "...                                                  ...                 ...   \n",
       "41152  airline pilots offering stock supermarket shel...             Neutral   \n",
       "41153  response complaint provided citing covid relat...  Extremely Negative   \n",
       "41154  you know itâs getting tough rationing toilet p...            Positive   \n",
       "41155        is wrong smell hand sanitizer starting turn             Neutral   \n",
       "41156  well newused rift s going amazon rn although n...            Negative   \n",
       "\n",
       "       negative  neutral  positive  compound  \n",
       "1         0.000    0.862     0.138    0.4588  \n",
       "2         0.000    0.786     0.214    0.4588  \n",
       "3         0.064    0.571     0.364    0.8127  \n",
       "4         0.180    0.494     0.326    0.6300  \n",
       "5         0.000    0.887     0.113    0.4939  \n",
       "...         ...      ...       ...       ...  \n",
       "41152     0.000    1.000     0.000    0.0000  \n",
       "41153     0.286    0.714     0.000   -0.6369  \n",
       "41154     0.114    0.682     0.205    0.2960  \n",
       "41155     0.274    0.442     0.283    0.0258  \n",
       "41156     0.189    0.686     0.124   -0.4576  \n",
       "\n",
       "[41124 rows x 10 columns]"
      ]
     },
     "execution_count": 24,
     "metadata": {},
     "output_type": "execute_result"
    }
   ],
   "source": [
    "train_df"
   ]
  },
  {
   "cell_type": "markdown",
   "id": "e9c2d18d",
   "metadata": {},
   "source": [
    "### ***tokenization on OriginalTweet columns***"
   ]
  },
  {
   "cell_type": "code",
   "execution_count": 25,
   "id": "7b15c740",
   "metadata": {},
   "outputs": [],
   "source": [
    "# tokanization\n",
    "from nltk.tokenize import word_tokenize\n",
    "train_df['OriginalTweet'] = train_df['OriginalTweet'].apply(word_tokenize)"
   ]
  },
  {
   "cell_type": "code",
   "execution_count": 26,
   "id": "64b3b971",
   "metadata": {},
   "outputs": [
    {
     "data": {
      "text/html": [
       "<div>\n",
       "<style scoped>\n",
       "    .dataframe tbody tr th:only-of-type {\n",
       "        vertical-align: middle;\n",
       "    }\n",
       "\n",
       "    .dataframe tbody tr th {\n",
       "        vertical-align: top;\n",
       "    }\n",
       "\n",
       "    .dataframe thead th {\n",
       "        text-align: right;\n",
       "    }\n",
       "</style>\n",
       "<table border=\"1\" class=\"dataframe\">\n",
       "  <thead>\n",
       "    <tr style=\"text-align: right;\">\n",
       "      <th></th>\n",
       "      <th>UserName</th>\n",
       "      <th>ScreenName</th>\n",
       "      <th>Location</th>\n",
       "      <th>TweetAt</th>\n",
       "      <th>OriginalTweet</th>\n",
       "      <th>Sentiment</th>\n",
       "      <th>negative</th>\n",
       "      <th>neutral</th>\n",
       "      <th>positive</th>\n",
       "      <th>compound</th>\n",
       "    </tr>\n",
       "  </thead>\n",
       "  <tbody>\n",
       "    <tr>\n",
       "      <th>1</th>\n",
       "      <td>3800</td>\n",
       "      <td>48752</td>\n",
       "      <td>UK</td>\n",
       "      <td>16-03-2020</td>\n",
       "      <td>[advice, talk, neighbours, family, exchange, p...</td>\n",
       "      <td>Positive</td>\n",
       "      <td>0.0</td>\n",
       "      <td>0.862</td>\n",
       "      <td>0.138</td>\n",
       "      <td>0.4588</td>\n",
       "    </tr>\n",
       "    <tr>\n",
       "      <th>2</th>\n",
       "      <td>3801</td>\n",
       "      <td>48753</td>\n",
       "      <td>Vagabonds</td>\n",
       "      <td>16-03-2020</td>\n",
       "      <td>[coronavirus, australia, woolworths, give, eld...</td>\n",
       "      <td>Positive</td>\n",
       "      <td>0.0</td>\n",
       "      <td>0.786</td>\n",
       "      <td>0.214</td>\n",
       "      <td>0.4588</td>\n",
       "    </tr>\n",
       "  </tbody>\n",
       "</table>\n",
       "</div>"
      ],
      "text/plain": [
       "   UserName  ScreenName   Location     TweetAt  \\\n",
       "1      3800       48752         UK  16-03-2020   \n",
       "2      3801       48753  Vagabonds  16-03-2020   \n",
       "\n",
       "                                       OriginalTweet Sentiment  negative  \\\n",
       "1  [advice, talk, neighbours, family, exchange, p...  Positive       0.0   \n",
       "2  [coronavirus, australia, woolworths, give, eld...  Positive       0.0   \n",
       "\n",
       "   neutral  positive  compound  \n",
       "1    0.862     0.138    0.4588  \n",
       "2    0.786     0.214    0.4588  "
      ]
     },
     "execution_count": 26,
     "metadata": {},
     "output_type": "execute_result"
    }
   ],
   "source": [
    "train_df.head(2)"
   ]
  },
  {
   "cell_type": "markdown",
   "id": "59bfd6a3",
   "metadata": {},
   "source": [
    "### ***vectorization***"
   ]
  },
  {
   "cell_type": "code",
   "execution_count": 27,
   "id": "dad22ea6",
   "metadata": {},
   "outputs": [],
   "source": [
    "# vectorization\n",
    "from sklearn.feature_extraction.text import CountVectorizer\n",
    "\n",
    "vectorizer = CountVectorizer()\n",
    "X = vectorizer.fit_transform([' '.join(tokens) for tokens in train_df['OriginalTweet']])"
   ]
  },
  {
   "cell_type": "markdown",
   "id": "e7f6f22c",
   "metadata": {},
   "source": [
    "### ***Preparing the class labels assigning numbers based on sentiments***"
   ]
  },
  {
   "cell_type": "code",
   "execution_count": 28,
   "id": "3a3aa174",
   "metadata": {},
   "outputs": [],
   "source": [
    "# preparing class labels\n",
    "import numpy as np\n",
    "\n",
    "train_df['Sentiment'] = train_df['Sentiment'].str.lower()\n",
    "\n",
    "n = np.array(train_df['Sentiment'])\n",
    "\n",
    "y_act = []\n",
    "for i in n:\n",
    "    if i == 'neutral':\n",
    "        y_act.append(0) # neutral\n",
    "    if i == 'positive':\n",
    "        y_act.append(1) # positive\n",
    "    if i == 'extremely negative':\n",
    "        y_act.append(2) # extreamly negative\n",
    "    if i == 'negative':\n",
    "        y_act.append(3) # negative\n",
    "    if i == 'extremely positive':\n",
    "        y_act.append(4) # extremely positive\n",
    "    else:\n",
    "        pass\n",
    "y_act = np.array(y_act)"
   ]
  },
  {
   "cell_type": "code",
   "execution_count": 29,
   "id": "fd147c2a",
   "metadata": {},
   "outputs": [
    {
     "data": {
      "text/plain": [
       "array([1, 1, 1, ..., 1, 0, 3])"
      ]
     },
     "execution_count": 29,
     "metadata": {},
     "output_type": "execute_result"
    }
   ],
   "source": [
    "y_act"
   ]
  },
  {
   "cell_type": "markdown",
   "id": "a8539964",
   "metadata": {},
   "source": [
    "# ***Training***"
   ]
  },
  {
   "cell_type": "markdown",
   "id": "8f2a0202",
   "metadata": {},
   "source": [
    "# Naive bayes"
   ]
  },
  {
   "cell_type": "code",
   "execution_count": 30,
   "id": "239159fc",
   "metadata": {},
   "outputs": [],
   "source": [
    "from sklearn.model_selection import train_test_split\n",
    "from sklearn.naive_bayes import MultinomialNB\n",
    "from sklearn.metrics import accuracy_score, precision_score, recall_score, f1_score"
   ]
  },
  {
   "cell_type": "code",
   "execution_count": 31,
   "id": "5300c55e",
   "metadata": {},
   "outputs": [],
   "source": [
    "# spliting the dataset\n",
    "X_train, X_test, y_train, y_test = train_test_split(X, y_act, test_size=0.2, random_state=42)"
   ]
  },
  {
   "cell_type": "code",
   "execution_count": null,
   "id": "7af43b00",
   "metadata": {},
   "outputs": [],
   "source": [
    "{'alpha': [0.00001, 0.001, 0.1, 1, 10, 100]}"
   ]
  },
  {
   "cell_type": "code",
   "execution_count": 38,
   "id": "6211d0f5",
   "metadata": {},
   "outputs": [
    {
     "data": {
      "text/plain": [
       "RandomizedSearchCV(cv=5, estimator=MultinomialNB(), n_iter=100,\n",
       "                   param_distributions={'alpha': <scipy.stats._distn_infrastructure.rv_continuous_frozen object at 0x0000020D7BD7B910>})"
      ]
     },
     "execution_count": 38,
     "metadata": {},
     "output_type": "execute_result"
    }
   ],
   "source": [
    "from sklearn.model_selection import RandomizedSearchCV\n",
    "from scipy.stats import uniform\n",
    "from scipy.stats import loguniform\n",
    "\n",
    "# Create a MultinomialNB model\n",
    "nb = MultinomialNB()\n",
    "\n",
    "# Define the parameter space to search\n",
    "param_distributions = {'alpha': loguniform(0.01, 1.0)}# uniform(0, 1)\n",
    "\n",
    "# Create a RandomizedSearchCV object\n",
    "random_search = RandomizedSearchCV(nb, param_distributions=param_distributions, n_iter=100, cv=5)\n",
    "\n",
    "# Fit the randomized search object to the data\n",
    "random_search.fit(X_train, y_train)"
   ]
  },
  {
   "cell_type": "code",
   "execution_count": 39,
   "id": "b962effd",
   "metadata": {},
   "outputs": [
    {
     "name": "stdout",
     "output_type": "stream",
     "text": [
      "Best parameters:  {'alpha': 0.4594356712946165}\n",
      "Best score:  0.48001464085551754\n"
     ]
    }
   ],
   "source": [
    "# Print the best parameters and score\n",
    "print(\"Best parameters: \", random_search.best_params_)\n",
    "print(\"Best score: \", random_search.best_score_)"
   ]
  },
  {
   "cell_type": "code",
   "execution_count": 42,
   "id": "b0448347",
   "metadata": {},
   "outputs": [
    {
     "data": {
      "text/plain": [
       "MultinomialNB(alpha=0.4594356712946165)"
      ]
     },
     "execution_count": 42,
     "metadata": {},
     "output_type": "execute_result"
    }
   ],
   "source": [
    "nb = MultinomialNB(alpha=0.4594356712946165)\n",
    "nb.fit(X_train, y_train)"
   ]
  },
  {
   "cell_type": "markdown",
   "id": "1318206b",
   "metadata": {},
   "source": [
    "### ***Model evaluation***"
   ]
  },
  {
   "cell_type": "code",
   "execution_count": 43,
   "id": "faf24fdf",
   "metadata": {},
   "outputs": [
    {
     "name": "stdout",
     "output_type": "stream",
     "text": [
      "Accuracy: 0.4809726443768997\n",
      "Precision: 0.4934260372034517\n",
      "Recall: 0.4809726443768997\n",
      "F1 score: 0.48355932345953256\n"
     ]
    }
   ],
   "source": [
    "# Evaluating the model\n",
    "y_pred = nb.predict(X_test)\n",
    "print('Accuracy:', accuracy_score(y_test, y_pred))\n",
    "print('Precision:', precision_score(y_test, y_pred, average='weighted'))\n",
    "print('Recall:', recall_score(y_test, y_pred, average='weighted'))\n",
    "print('F1 score:', f1_score(y_test, y_pred, average='weighted'))"
   ]
  },
  {
   "cell_type": "markdown",
   "id": "ab8b2c92",
   "metadata": {},
   "source": [
    "# Xgboost"
   ]
  },
  {
   "cell_type": "code",
   "execution_count": 44,
   "id": "8e130548",
   "metadata": {},
   "outputs": [],
   "source": [
    "import xgboost as xgb"
   ]
  },
  {
   "cell_type": "code",
   "execution_count": 47,
   "id": "e0a92080",
   "metadata": {},
   "outputs": [
    {
     "data": {
      "text/plain": [
       "RandomizedSearchCV(cv=5,\n",
       "                   estimator=XGBClassifier(base_score=None, booster=None,\n",
       "                                           callbacks=None,\n",
       "                                           colsample_bylevel=None,\n",
       "                                           colsample_bynode=None,\n",
       "                                           colsample_bytree=None,\n",
       "                                           early_stopping_rounds=None,\n",
       "                                           enable_categorical=False,\n",
       "                                           eval_metric=None, feature_types=None,\n",
       "                                           gamma=None, gpu_id=None,\n",
       "                                           grow_policy=None,\n",
       "                                           importance_type=None,\n",
       "                                           interaction_constraints=None,\n",
       "                                           learning_rate...\n",
       "                                           max_cat_threshold=None,\n",
       "                                           max_cat_to_onehot=None,\n",
       "                                           max_delta_step=None, max_depth=None,\n",
       "                                           max_leaves=None,\n",
       "                                           min_child_weight=None, missing=nan,\n",
       "                                           monotone_constraints=None,\n",
       "                                           n_estimators=100, n_jobs=None,\n",
       "                                           num_parallel_tree=None,\n",
       "                                           objective='multi:softmax',\n",
       "                                           predictor=None, ...),\n",
       "                   param_distributions={'learning_rate': [0.01, 0.1, 0.5],\n",
       "                                        'max_depth': [3, 5, 7],\n",
       "                                        'n_estimators': [50, 100, 200]})"
      ]
     },
     "execution_count": 47,
     "metadata": {},
     "output_type": "execute_result"
    }
   ],
   "source": [
    "xb = xgb.XGBClassifier(objective=\"multi:softmax\")\n",
    "\n",
    "params = {\n",
    "    \"learning_rate\": [0.01, 0.1, 0.5],\n",
    "    \"max_depth\": [3, 5, 7],\n",
    "    \"n_estimators\": [50, 100, 200]\n",
    "}\n",
    "\n",
    "\n",
    "random_search = RandomizedSearchCV(xb, params, cv=5)\n",
    "random_search.fit(X_train, y_train)"
   ]
  },
  {
   "cell_type": "code",
   "execution_count": 48,
   "id": "f3ff9b67",
   "metadata": {},
   "outputs": [
    {
     "name": "stdout",
     "output_type": "stream",
     "text": [
      "Best parameters:  {'n_estimators': 200, 'max_depth': 7, 'learning_rate': 0.1}\n",
      "Best score:  0.5605335203518981\n"
     ]
    }
   ],
   "source": [
    "# Print the best parameters and score\n",
    "print(\"Best parameters: \", random_search.best_params_)\n",
    "print(\"Best score: \", random_search.best_score_)"
   ]
  },
  {
   "cell_type": "code",
   "execution_count": 49,
   "id": "5430d65a",
   "metadata": {},
   "outputs": [
    {
     "data": {
      "text/plain": [
       "XGBClassifier(base_score=None, booster=None, callbacks=None,\n",
       "              colsample_bylevel=None, colsample_bynode=None,\n",
       "              colsample_bytree=None, early_stopping_rounds=None,\n",
       "              enable_categorical=False, eval_metric=None, feature_types=None,\n",
       "              gamma=None, gpu_id=None, grow_policy=None, importance_type=None,\n",
       "              interaction_constraints=None, learning_rate=0.1, max_bin=None,\n",
       "              max_cat_threshold=None, max_cat_to_onehot=None,\n",
       "              max_delta_step=None, max_depth=7, max_leaves=None,\n",
       "              min_child_weight=None, missing=nan, monotone_constraints=None,\n",
       "              n_estimators=200, n_jobs=None, num_class=5,\n",
       "              num_parallel_tree=None, objective='multi:softmax', ...)"
      ]
     },
     "execution_count": 49,
     "metadata": {},
     "output_type": "execute_result"
    }
   ],
   "source": [
    "xb = xgb.XGBClassifier(objective=\"multi:softmax\", num_class=5, n_estimators=200, max_depth=7, learning_rate=0.1)\n",
    "xb.fit(X_train, y_train)"
   ]
  },
  {
   "cell_type": "markdown",
   "id": "a938868e",
   "metadata": {},
   "source": [
    "### ***Model Evaluation***"
   ]
  },
  {
   "cell_type": "code",
   "execution_count": 50,
   "id": "a64e2951",
   "metadata": {},
   "outputs": [
    {
     "name": "stdout",
     "output_type": "stream",
     "text": [
      "Accuracy: 0.56\n",
      "Precision: 0.5739903990816632\n",
      "Recall: 0.56\n",
      "F1 score: 0.5535402582276219\n"
     ]
    }
   ],
   "source": [
    "y_pred_xb = xb.predict(X_test)\n",
    "print('Accuracy:', accuracy_score(y_test, y_pred_xb))\n",
    "print('Precision:', precision_score(y_test, y_pred_xb, average='weighted'))\n",
    "print('Recall:', recall_score(y_test, y_pred_xb, average='weighted'))\n",
    "print('F1 score:', f1_score(y_test, y_pred_xb, average='weighted'))"
   ]
  },
  {
   "cell_type": "markdown",
   "id": "c94c66dc",
   "metadata": {},
   "source": [
    "### ***Confusion metric***"
   ]
  },
  {
   "cell_type": "code",
   "execution_count": 52,
   "id": "1f37dc93",
   "metadata": {},
   "outputs": [
    {
     "name": "stdout",
     "output_type": "stream",
     "text": [
      "[[1329  126   14   85   11]\n",
      " [ 511 1249   51  275  198]\n",
      " [ 134   83  498  338   13]\n",
      " [ 476  418  200  847   42]\n",
      " [ 104  473   10   57  683]]\n"
     ]
    }
   ],
   "source": [
    "from sklearn.metrics import confusion_matrix\n",
    "cm_xb = confusion_matrix(y_test, y_pred_xb)\n",
    "\n",
    "print(cm_xb)"
   ]
  },
  {
   "cell_type": "markdown",
   "id": "28be76b7",
   "metadata": {},
   "source": [
    "### ***Model Prediction***"
   ]
  },
  {
   "cell_type": "code",
   "execution_count": 57,
   "id": "612060d1",
   "metadata": {},
   "outputs": [
    {
     "name": "stdout",
     "output_type": "stream",
     "text": [
      "Sentiment: [0]\n"
     ]
    }
   ],
   "source": [
    "# Predicting sentiment of new tweets\n",
    "new_tweet = ['The movie I saw last night was a complete disappointment.']\n",
    "new_tweet = vectorizer.transform(new_tweet)\n",
    "sentiment = xb.predict(new_tweet)\n",
    "print('Sentiment:', sentiment)"
   ]
  },
  {
   "cell_type": "markdown",
   "id": "3e9bbf52",
   "metadata": {},
   "source": [
    "# ***Full flow featurization data preparation and tfidf vectorization to improve performance***"
   ]
  },
  {
   "cell_type": "code",
   "execution_count": 103,
   "id": "487838f3",
   "metadata": {},
   "outputs": [
    {
     "data": {
      "text/html": [
       "<div>\n",
       "<style scoped>\n",
       "    .dataframe tbody tr th:only-of-type {\n",
       "        vertical-align: middle;\n",
       "    }\n",
       "\n",
       "    .dataframe tbody tr th {\n",
       "        vertical-align: top;\n",
       "    }\n",
       "\n",
       "    .dataframe thead th {\n",
       "        text-align: right;\n",
       "    }\n",
       "</style>\n",
       "<table border=\"1\" class=\"dataframe\">\n",
       "  <thead>\n",
       "    <tr style=\"text-align: right;\">\n",
       "      <th></th>\n",
       "      <th>UserName</th>\n",
       "      <th>ScreenName</th>\n",
       "      <th>Location</th>\n",
       "      <th>TweetAt</th>\n",
       "      <th>OriginalTweet</th>\n",
       "      <th>Sentiment</th>\n",
       "    </tr>\n",
       "  </thead>\n",
       "  <tbody>\n",
       "    <tr>\n",
       "      <th>0</th>\n",
       "      <td>3799</td>\n",
       "      <td>48751</td>\n",
       "      <td>London</td>\n",
       "      <td>16-03-2020</td>\n",
       "      <td>@MeNyrbie @Phil_Gahan @Chrisitv https://t.co/i...</td>\n",
       "      <td>Neutral</td>\n",
       "    </tr>\n",
       "    <tr>\n",
       "      <th>1</th>\n",
       "      <td>3800</td>\n",
       "      <td>48752</td>\n",
       "      <td>UK</td>\n",
       "      <td>16-03-2020</td>\n",
       "      <td>advice Talk to your neighbours family to excha...</td>\n",
       "      <td>Positive</td>\n",
       "    </tr>\n",
       "    <tr>\n",
       "      <th>2</th>\n",
       "      <td>3801</td>\n",
       "      <td>48753</td>\n",
       "      <td>Vagabonds</td>\n",
       "      <td>16-03-2020</td>\n",
       "      <td>Coronavirus Australia: Woolworths to give elde...</td>\n",
       "      <td>Positive</td>\n",
       "    </tr>\n",
       "    <tr>\n",
       "      <th>3</th>\n",
       "      <td>3802</td>\n",
       "      <td>48754</td>\n",
       "      <td>NaN</td>\n",
       "      <td>16-03-2020</td>\n",
       "      <td>My food stock is not the only one which is emp...</td>\n",
       "      <td>Positive</td>\n",
       "    </tr>\n",
       "    <tr>\n",
       "      <th>4</th>\n",
       "      <td>3803</td>\n",
       "      <td>48755</td>\n",
       "      <td>NaN</td>\n",
       "      <td>16-03-2020</td>\n",
       "      <td>Me, ready to go at supermarket during the #COV...</td>\n",
       "      <td>Extremely Negative</td>\n",
       "    </tr>\n",
       "  </tbody>\n",
       "</table>\n",
       "</div>"
      ],
      "text/plain": [
       "   UserName  ScreenName   Location     TweetAt  \\\n",
       "0      3799       48751     London  16-03-2020   \n",
       "1      3800       48752         UK  16-03-2020   \n",
       "2      3801       48753  Vagabonds  16-03-2020   \n",
       "3      3802       48754        NaN  16-03-2020   \n",
       "4      3803       48755        NaN  16-03-2020   \n",
       "\n",
       "                                       OriginalTweet           Sentiment  \n",
       "0  @MeNyrbie @Phil_Gahan @Chrisitv https://t.co/i...             Neutral  \n",
       "1  advice Talk to your neighbours family to excha...            Positive  \n",
       "2  Coronavirus Australia: Woolworths to give elde...            Positive  \n",
       "3  My food stock is not the only one which is emp...            Positive  \n",
       "4  Me, ready to go at supermarket during the #COV...  Extremely Negative  "
      ]
     },
     "execution_count": 103,
     "metadata": {},
     "output_type": "execute_result"
    }
   ],
   "source": [
    "train_df = pd.read_csv('Corona_NLP_train.csv', encoding='latin-1')\n",
    "train_df.head()"
   ]
  },
  {
   "cell_type": "code",
   "execution_count": 104,
   "id": "35204175",
   "metadata": {},
   "outputs": [
    {
     "data": {
      "text/html": [
       "<div>\n",
       "<style scoped>\n",
       "    .dataframe tbody tr th:only-of-type {\n",
       "        vertical-align: middle;\n",
       "    }\n",
       "\n",
       "    .dataframe tbody tr th {\n",
       "        vertical-align: top;\n",
       "    }\n",
       "\n",
       "    .dataframe thead th {\n",
       "        text-align: right;\n",
       "    }\n",
       "</style>\n",
       "<table border=\"1\" class=\"dataframe\">\n",
       "  <thead>\n",
       "    <tr style=\"text-align: right;\">\n",
       "      <th></th>\n",
       "      <th>UserName</th>\n",
       "      <th>ScreenName</th>\n",
       "      <th>Location</th>\n",
       "      <th>TweetAt</th>\n",
       "      <th>OriginalTweet</th>\n",
       "      <th>Sentiment</th>\n",
       "    </tr>\n",
       "  </thead>\n",
       "  <tbody>\n",
       "    <tr>\n",
       "      <th>0</th>\n",
       "      <td>3799</td>\n",
       "      <td>48751</td>\n",
       "      <td>London</td>\n",
       "      <td>16-03-2020</td>\n",
       "      <td>@MeNyrbie @Phil_Gahan @Chrisitv https://t.co/i...</td>\n",
       "      <td>Neutral</td>\n",
       "    </tr>\n",
       "  </tbody>\n",
       "</table>\n",
       "</div>"
      ],
      "text/plain": [
       "   UserName  ScreenName Location     TweetAt  \\\n",
       "0      3799       48751   London  16-03-2020   \n",
       "\n",
       "                                       OriginalTweet Sentiment  \n",
       "0  @MeNyrbie @Phil_Gahan @Chrisitv https://t.co/i...   Neutral  "
      ]
     },
     "execution_count": 104,
     "metadata": {},
     "output_type": "execute_result"
    }
   ],
   "source": [
    "train_df.head(1)"
   ]
  },
  {
   "cell_type": "code",
   "execution_count": 105,
   "id": "78f8602e",
   "metadata": {},
   "outputs": [
    {
     "name": "stderr",
     "output_type": "stream",
     "text": [
      "100%|██████████████████████████████████████████████████████████████████████████| 41124/41124 [00:07<00:00, 5504.19it/s]\n"
     ]
    }
   ],
   "source": [
    "# Data Cleansing\n",
    "train_df['OriginalTweet'] = train_df['OriginalTweet'].apply(lambda x: remove_emoji(x))\n",
    "train_df['OriginalTweet'] = train_df['OriginalTweet'].apply(lambda x: remove_links(x))\n",
    "train_df['OriginalTweet'] = train_df['OriginalTweet'].apply(lambda x: remove_emails(x))\n",
    "train_df['OriginalTweet'] = train_df['OriginalTweet'].apply(lambda x: remove_mentions(x))\n",
    "train_df['OriginalTweet'] = train_df['OriginalTweet'].apply(lambda x: clean_text(x))\n",
    "stop_words = set(stopwords.words('english'))\n",
    "train_df['OriginalTweet'] = train_df['OriginalTweet'].apply(lambda x: ' '.join(word for word in x.split() if word not in stop_words))\n",
    "train_df['OriginalTweet'] = train_df['OriginalTweet'].str.lower()\n",
    "\n",
    "#empty tweets col after preprocessing\n",
    "empty_tweets_index = []\n",
    "for i in range(len(train_df['OriginalTweet'])):\n",
    "    if train_df['OriginalTweet'][i] == '':\n",
    "        empty_tweets_index.append(i)\n",
    "        \n",
    "train_df = train_df.drop(empty_tweets_index, axis=0)\n",
    "\n",
    "sent = SentimentIntensityAnalyzer()\n",
    "neg = []\n",
    "neu = []\n",
    "pos = []\n",
    "com = []\n",
    "def update(k):\n",
    "    neg.append(k[\"neg\"])\n",
    "    neu.append(k[\"neu\"])\n",
    "    pos.append(k[\"pos\"])\n",
    "    com.append(k[\"compound\"])\n",
    "    \n",
    "from tqdm import tqdm\n",
    "for i in tqdm(train_df['OriginalTweet']):\n",
    "    update(sent.polarity_scores(i))\n",
    "    \n",
    "train_df[\"negative\"] = neg\n",
    "train_df[\"neutral\"] = neu\n",
    "train_df[\"positive\"] = pos\n",
    "train_df[\"compound\"] = com"
   ]
  },
  {
   "cell_type": "code",
   "execution_count": 106,
   "id": "c3835b54",
   "metadata": {},
   "outputs": [
    {
     "data": {
      "text/html": [
       "<div>\n",
       "<style scoped>\n",
       "    .dataframe tbody tr th:only-of-type {\n",
       "        vertical-align: middle;\n",
       "    }\n",
       "\n",
       "    .dataframe tbody tr th {\n",
       "        vertical-align: top;\n",
       "    }\n",
       "\n",
       "    .dataframe thead th {\n",
       "        text-align: right;\n",
       "    }\n",
       "</style>\n",
       "<table border=\"1\" class=\"dataframe\">\n",
       "  <thead>\n",
       "    <tr style=\"text-align: right;\">\n",
       "      <th></th>\n",
       "      <th>UserName</th>\n",
       "      <th>ScreenName</th>\n",
       "      <th>Location</th>\n",
       "      <th>TweetAt</th>\n",
       "      <th>OriginalTweet</th>\n",
       "      <th>Sentiment</th>\n",
       "      <th>negative</th>\n",
       "      <th>neutral</th>\n",
       "      <th>positive</th>\n",
       "      <th>compound</th>\n",
       "    </tr>\n",
       "  </thead>\n",
       "  <tbody>\n",
       "    <tr>\n",
       "      <th>1</th>\n",
       "      <td>3800</td>\n",
       "      <td>48752</td>\n",
       "      <td>UK</td>\n",
       "      <td>16-03-2020</td>\n",
       "      <td>advice talk neighbours family exchange phone n...</td>\n",
       "      <td>Positive</td>\n",
       "      <td>0.0</td>\n",
       "      <td>0.862</td>\n",
       "      <td>0.138</td>\n",
       "      <td>0.4588</td>\n",
       "    </tr>\n",
       "  </tbody>\n",
       "</table>\n",
       "</div>"
      ],
      "text/plain": [
       "   UserName  ScreenName Location     TweetAt  \\\n",
       "1      3800       48752       UK  16-03-2020   \n",
       "\n",
       "                                       OriginalTweet Sentiment  negative  \\\n",
       "1  advice talk neighbours family exchange phone n...  Positive       0.0   \n",
       "\n",
       "   neutral  positive  compound  \n",
       "1    0.862     0.138    0.4588  "
      ]
     },
     "execution_count": 106,
     "metadata": {},
     "output_type": "execute_result"
    }
   ],
   "source": [
    "train_df.head(1)"
   ]
  },
  {
   "cell_type": "code",
   "execution_count": 107,
   "id": "ce6fc32b",
   "metadata": {},
   "outputs": [],
   "source": [
    "# y actual define class labels\n",
    "train_df['Sentiment'] = train_df['Sentiment'].str.lower()\n",
    "\n",
    "n = np.array(train_df['Sentiment'])\n",
    "\n",
    "y_act = []\n",
    "for i in n:\n",
    "    if i == 'neutral':\n",
    "        y_act.append(0) # neutral\n",
    "    if i == 'positive':\n",
    "        y_act.append(1) # positive\n",
    "    if i == 'extremely negative':\n",
    "        y_act.append(2) # extreamly negative\n",
    "    if i == 'negative':\n",
    "        y_act.append(3) # negative\n",
    "    if i == 'extremely positive':\n",
    "        y_act.append(4) # extremely positive\n",
    "    else:\n",
    "        pass\n",
    "y_act = np.array(y_act)"
   ]
  },
  {
   "cell_type": "code",
   "execution_count": 108,
   "id": "2a4ab096",
   "metadata": {},
   "outputs": [
    {
     "data": {
      "text/plain": [
       "array([1, 1, 1, ..., 1, 0, 3])"
      ]
     },
     "execution_count": 108,
     "metadata": {},
     "output_type": "execute_result"
    }
   ],
   "source": [
    "y_act"
   ]
  },
  {
   "cell_type": "code",
   "execution_count": 109,
   "id": "95890f40",
   "metadata": {},
   "outputs": [],
   "source": [
    "X = train_df.drop(['UserName','ScreenName', 'Location', 'TweetAt', 'Sentiment'], axis=1)"
   ]
  },
  {
   "cell_type": "code",
   "execution_count": 110,
   "id": "7f847bba",
   "metadata": {},
   "outputs": [
    {
     "data": {
      "text/html": [
       "<div>\n",
       "<style scoped>\n",
       "    .dataframe tbody tr th:only-of-type {\n",
       "        vertical-align: middle;\n",
       "    }\n",
       "\n",
       "    .dataframe tbody tr th {\n",
       "        vertical-align: top;\n",
       "    }\n",
       "\n",
       "    .dataframe thead th {\n",
       "        text-align: right;\n",
       "    }\n",
       "</style>\n",
       "<table border=\"1\" class=\"dataframe\">\n",
       "  <thead>\n",
       "    <tr style=\"text-align: right;\">\n",
       "      <th></th>\n",
       "      <th>OriginalTweet</th>\n",
       "      <th>negative</th>\n",
       "      <th>neutral</th>\n",
       "      <th>positive</th>\n",
       "      <th>compound</th>\n",
       "    </tr>\n",
       "  </thead>\n",
       "  <tbody>\n",
       "    <tr>\n",
       "      <th>1</th>\n",
       "      <td>advice talk neighbours family exchange phone n...</td>\n",
       "      <td>0.0</td>\n",
       "      <td>0.862</td>\n",
       "      <td>0.138</td>\n",
       "      <td>0.4588</td>\n",
       "    </tr>\n",
       "  </tbody>\n",
       "</table>\n",
       "</div>"
      ],
      "text/plain": [
       "                                       OriginalTweet  negative  neutral  \\\n",
       "1  advice talk neighbours family exchange phone n...       0.0    0.862   \n",
       "\n",
       "   positive  compound  \n",
       "1     0.138    0.4588  "
      ]
     },
     "execution_count": 110,
     "metadata": {},
     "output_type": "execute_result"
    }
   ],
   "source": [
    "X.head(1)"
   ]
  },
  {
   "cell_type": "code",
   "execution_count": 111,
   "id": "10bfc2b5",
   "metadata": {},
   "outputs": [],
   "source": [
    "X_train, X_test, y_train, y_test = train_test_split(X, y_act, test_size=0.2, random_state=42)"
   ]
  },
  {
   "cell_type": "markdown",
   "id": "3bc81178",
   "metadata": {},
   "source": [
    "### ***Tfidf vectorization***"
   ]
  },
  {
   "cell_type": "code",
   "execution_count": 185,
   "id": "bb8f6945",
   "metadata": {},
   "outputs": [],
   "source": [
    "# tfidf vectorization\n",
    "from sklearn.feature_extraction.text import TfidfVectorizer\n",
    "\n",
    "vectorizer = TfidfVectorizer(stop_words=\"english\", min_df=10, ngram_range=(1,4), max_features=100000)\n",
    "vectorizer.fit(X_train['OriginalTweet'].values)\n",
    "\n",
    "X_tr_tweet_tfidf = vectorizer.transform(X_train['OriginalTweet'].values)\n",
    "X_te_tweet_tfidf = vectorizer.transform(X_test['OriginalTweet'].values)"
   ]
  },
  {
   "cell_type": "markdown",
   "id": "35b717ab",
   "metadata": {},
   "source": [
    "### ***Normalizing numerical feature***"
   ]
  },
  {
   "cell_type": "code",
   "execution_count": 113,
   "id": "2d450116",
   "metadata": {},
   "outputs": [],
   "source": [
    "# encoding numerical features.\n",
    "from sklearn.preprocessing import Normalizer\n",
    "\n",
    "normalizer = Normalizer()\n",
    "normalizer.fit(X_train['negative'].values.reshape(-1,1))\n",
    "X_tr_neg = normalizer.transform(X_train['negative'].values.reshape(-1,1))\n",
    "X_te_neg = normalizer.transform(X_test['negative'].values.reshape(-1,1))\n",
    "\n",
    "normalizer = Normalizer()\n",
    "normalizer.fit(X_train['neutral'].values.reshape(-1,1))\n",
    "X_tr_neu = normalizer.transform(X_train['neutral'].values.reshape(-1,1))\n",
    "X_te_neu = normalizer.transform(X_test['neutral'].values.reshape(-1,1))\n",
    "\n",
    "normalizer = Normalizer()\n",
    "normalizer.fit(X_train['positive'].values.reshape(-1,1))\n",
    "X_tr_pos = normalizer.transform(X_train['positive'].values.reshape(-1,1))\n",
    "X_te_pos = normalizer.transform(X_test['positive'].values.reshape(-1,1))\n",
    "\n",
    "normalizer = Normalizer()\n",
    "normalizer.fit(X_train['compound'].values.reshape(-1,1))\n",
    "X_tr_com = normalizer.transform(X_train['compound'].values.reshape(-1,1))\n",
    "X_te_com = normalizer.transform(X_test['compound'].values.reshape(-1,1))"
   ]
  },
  {
   "cell_type": "markdown",
   "id": "60775e1e",
   "metadata": {},
   "source": [
    "### ***Final data***"
   ]
  },
  {
   "cell_type": "code",
   "execution_count": 114,
   "id": "977b2f25",
   "metadata": {},
   "outputs": [],
   "source": [
    "from scipy.sparse import hstack\n",
    "X_tr = hstack((X_tr_tweet_tfidf, X_tr_neg, X_tr_neu, X_tr_pos, X_tr_com)).tocsr()\n",
    "X_te = hstack((X_te_tweet_tfidf, X_te_neg, X_te_neu, X_te_pos, X_te_com)).tocsr()"
   ]
  },
  {
   "cell_type": "markdown",
   "id": "6c4a2378",
   "metadata": {},
   "source": [
    "### ***Hyperparameter tuning***"
   ]
  },
  {
   "cell_type": "code",
   "execution_count": 150,
   "id": "111d6a69",
   "metadata": {},
   "outputs": [
    {
     "data": {
      "text/plain": [
       "RandomizedSearchCV(cv=5,\n",
       "                   estimator=XGBClassifier(base_score=None, booster=None,\n",
       "                                           callbacks=None,\n",
       "                                           colsample_bylevel=None,\n",
       "                                           colsample_bynode=None,\n",
       "                                           colsample_bytree=None,\n",
       "                                           early_stopping_rounds=None,\n",
       "                                           enable_categorical=False,\n",
       "                                           eval_metric=None, feature_types=None,\n",
       "                                           gamma=None, gpu_id=None,\n",
       "                                           grow_policy=None,\n",
       "                                           importance_type=None,\n",
       "                                           interaction_constraints=None,\n",
       "                                           learning_rate...\n",
       "                                           max_leaves=None,\n",
       "                                           min_child_weight=None, missing=nan,\n",
       "                                           monotone_constraints=None,\n",
       "                                           n_estimators=200, n_jobs=None,\n",
       "                                           num_class=5, num_parallel_tree=None,\n",
       "                                           objective='multi:softmax', ...),\n",
       "                   param_distributions={'colsample_bytree': [0.1, 0.3, 0.5, 1],\n",
       "                                        'learning_rate': [0.01, 0.03, 0.05, 0.1,\n",
       "                                                          0.15, 0.2],\n",
       "                                        'max_depth': [3, 5, 10],\n",
       "                                        'n_estimators': [100, 200, 500, 1000,\n",
       "                                                         2000],\n",
       "                                        'subsample': [0.1, 0.3, 0.5, 1]})"
      ]
     },
     "execution_count": 150,
     "metadata": {},
     "output_type": "execute_result"
    }
   ],
   "source": [
    "xb_tfidf = xgb.XGBClassifier(objective=\"multi:softmax\", num_class=5, n_estimators=200, max_depth=7, learning_rate=0.5)\n",
    "# xb_tfidf.fit(X_train, y_train)\n",
    "params = {\n",
    "    \"learning_rate\": [0.01,0.03,0.05,0.1,0.15, 0.2],\n",
    "    \"max_depth\": [3, 5, 10],\n",
    "    \"n_estimators\": [100, 200, 500, 1000, 2000],\n",
    "    \"colsample_bytree\": [0.1,0.3,0.5,1],\n",
    "    \"subsample\": [0.1,0.3,0.5,1]\n",
    "}\n",
    "\n",
    "\n",
    "random_search_tfidf = RandomizedSearchCV(xb_tfidf, params, cv=5)\n",
    "random_search_tfidf.fit(X_tr, y_train)"
   ]
  },
  {
   "cell_type": "code",
   "execution_count": 151,
   "id": "929b5119",
   "metadata": {},
   "outputs": [
    {
     "name": "stdout",
     "output_type": "stream",
     "text": [
      "Best parameters:  {'subsample': 0.5, 'n_estimators': 2000, 'max_depth': 3, 'learning_rate': 0.05, 'colsample_bytree': 0.1}\n",
      "Best score:  0.753305252828494\n"
     ]
    }
   ],
   "source": [
    "# Print the best parameters and score\n",
    "print(\"Best parameters: \", random_search_tfidf.best_params_)\n",
    "print(\"Best score: \", random_search_tfidf.best_score_)"
   ]
  },
  {
   "cell_type": "code",
   "execution_count": 152,
   "id": "ce2fb936",
   "metadata": {},
   "outputs": [
    {
     "data": {
      "text/plain": [
       "XGBClassifier(base_score=None, booster=None, callbacks=None,\n",
       "              colsample_bylevel=None, colsample_bynode=None,\n",
       "              colsample_bytree=0.1, early_stopping_rounds=None,\n",
       "              enable_categorical=False, eval_metric=None, feature_types=None,\n",
       "              gamma=None, gpu_id=None, grow_policy=None, importance_type=None,\n",
       "              interaction_constraints=None, learning_rate=0.05, max_bin=None,\n",
       "              max_cat_threshold=None, max_cat_to_onehot=None,\n",
       "              max_delta_step=None, max_depth=3, max_leaves=None,\n",
       "              min_child_weight=None, missing=nan, monotone_constraints=None,\n",
       "              n_estimators=2000, n_jobs=None, num_class=5,\n",
       "              num_parallel_tree=None, objective='multi:softmax', ...)"
      ]
     },
     "execution_count": 152,
     "metadata": {},
     "output_type": "execute_result"
    }
   ],
   "source": [
    "xb_tfidf = xgb.XGBClassifier(objective=\"multi:softmax\", num_class=5, subsample=0.5, n_estimators=2000, max_depth=3, learning_rate=0.05, colsample_bytree=0.1)\n",
    "xb_tfidf.fit(X_tr, y_train)"
   ]
  },
  {
   "cell_type": "markdown",
   "id": "38fd4bb8",
   "metadata": {},
   "source": [
    "### ***Model Evaluation***"
   ]
  },
  {
   "cell_type": "code",
   "execution_count": 153,
   "id": "8187940f",
   "metadata": {},
   "outputs": [
    {
     "name": "stdout",
     "output_type": "stream",
     "text": [
      "Accuracy: 0.7529483282674772\n",
      "Precision: 0.7597118593382369\n",
      "Recall: 0.7529483282674772\n",
      "F1 score: 0.7475330520793451\n"
     ]
    }
   ],
   "source": [
    "y_pred_xb_tfidf = xb_tfidf.predict(X_te)\n",
    "print('Accuracy:', accuracy_score(y_test, y_pred_xb_tfidf))\n",
    "print('Precision:', precision_score(y_test, y_pred_xb_tfidf, average='weighted'))\n",
    "print('Recall:', recall_score(y_test, y_pred_xb_tfidf, average='weighted'))\n",
    "print('F1 score:', f1_score(y_test, y_pred_xb_tfidf, average='weighted'))"
   ]
  },
  {
   "cell_type": "code",
   "execution_count": 154,
   "id": "f11bef8b",
   "metadata": {},
   "outputs": [
    {
     "data": {
      "image/png": "[encoded data removed]",
      "text/plain": [
       "<Figure size 640x480 with 1 Axes>"
      ]
     },
     "metadata": {},
     "output_type": "display_data"
    }
   ],
   "source": [
    "from sklearn.metrics import f1_score\n",
    "import matplotlib.pyplot as plt\n",
    "\n",
    "y_pred_tr_xb_tfidf = xb_tfidf.predict(X_tr)\n",
    "y_pred_te_xb_tfidf = xb_tfidf.predict(X_te)\n",
    "# Calculate the F1 scores for training and test sets\n",
    "train_f1 = f1_score(y_train, y_pred_tr_xb_tfidf, average='macro')\n",
    "test_f1 = f1_score(y_test, y_pred_xb_tfidf, average='macro')\n",
    "\n",
    "# Plot the F1 scores\n",
    "plt.bar(['Training', 'Test'], [train_f1, test_f1])\n",
    "plt.title('F1 Scores for Training and Test Sets')\n",
    "plt.xlabel('Data Set')\n",
    "plt.ylabel('F1 Score')\n",
    "plt.show()"
   ]
  },
  {
   "cell_type": "markdown",
   "id": "d93bdb96",
   "metadata": {},
   "source": [
    "### ***Confusion Metric***"
   ]
  },
  {
   "cell_type": "code",
   "execution_count": 156,
   "id": "75278160",
   "metadata": {},
   "outputs": [
    {
     "name": "stdout",
     "output_type": "stream",
     "text": [
      "[[1410   89    5   55    6]\n",
      " [  26 1926   16  129  187]\n",
      " [   4   20  536  505    1]\n",
      " [  70  137  177 1592    7]\n",
      " [   3  575    4   16  729]]\n"
     ]
    }
   ],
   "source": [
    "from sklearn.metrics import confusion_matrix\n",
    "\n",
    "cm_tfidf = confusion_matrix(y_test, y_pred_xb_tfidf)\n",
    "\n",
    "print(cm_tfidf)"
   ]
  },
  {
   "cell_type": "markdown",
   "id": "4faaa02c",
   "metadata": {},
   "source": [
    "### ***Model Prediction***"
   ]
  },
  {
   "cell_type": "code",
   "execution_count": 186,
   "id": "a26525ee",
   "metadata": {},
   "outputs": [
    {
     "name": "stderr",
     "output_type": "stream",
     "text": [
      "100%|████████████████████████████████████████████████████████████████████████████████████████████| 1/1 [00:00<?, ?it/s]"
     ]
    },
    {
     "name": "stdout",
     "output_type": "stream",
     "text": [
      "Negative\n"
     ]
    },
    {
     "name": "stderr",
     "output_type": "stream",
     "text": [
      "\n"
     ]
    }
   ],
   "source": [
    "# Predicting sentiment of new tweets\n",
    "new_tweet = ['This frozen pizza was terrible. The crust was soggy and the toppings were bland.']\n",
    "\n",
    "sent = SentimentIntensityAnalyzer()\n",
    "neg = []\n",
    "neu = []\n",
    "pos = []\n",
    "com = []\n",
    "def update(k):\n",
    "    neg.append(k[\"neg\"])\n",
    "    neu.append(k[\"neu\"])\n",
    "    pos.append(k[\"pos\"])\n",
    "    com.append(k[\"compound\"])\n",
    "    \n",
    "from tqdm import tqdm\n",
    "for i in tqdm(new_tweet):\n",
    "    update(sent.polarity_scores(i))\n",
    "\n",
    "# create a dictionary from the lists\n",
    "data = {'OriginalTweet': new_tweet, 'negative': neg, 'neutral': neu, 'positive': pos, 'compound': com}\n",
    "\n",
    "# create a DataFrame from the dictionary\n",
    "df_future_unseen_data = pd.DataFrame(data)\n",
    "\n",
    "X_te_tweet_tfidf_future = vectorizer.transform(df_future_unseen_data['OriginalTweet'])\n",
    "\n",
    "normalizer = Normalizer()\n",
    "normalizer.fit(df_future_unseen_data['negative'].values.reshape(-1,1))\n",
    "X_te_neg_future = normalizer.transform(df_future_unseen_data['negative'].values.reshape(-1,1))\n",
    "\n",
    "normalizer = Normalizer()\n",
    "normalizer.fit(df_future_unseen_data['neutral'].values.reshape(-1,1))\n",
    "X_te_neu_future = normalizer.transform(df_future_unseen_data['neutral'].values.reshape(-1,1))\n",
    "\n",
    "normalizer = Normalizer()\n",
    "normalizer.fit(df_future_unseen_data['positive'].values.reshape(-1,1))\n",
    "X_te_pos_future = normalizer.transform(df_future_unseen_data['positive'].values.reshape(-1,1))\n",
    "\n",
    "normalizer = Normalizer()\n",
    "normalizer.fit(df_future_unseen_data['compound'].values.reshape(-1,1))\n",
    "X_te_com_future = normalizer.transform(df_future_unseen_data['compound'].values.reshape(-1,1))\n",
    "\n",
    "X_te_future = hstack((X_te_tweet_tfidf_future, X_te_neg_future, X_te_neu_future, X_te_pos_future, X_te_com_future)).tocsr()\n",
    "\n",
    "sentiment = xb_tfidf.predict(X_te_future)\n",
    "# print('Sentiment:', sentiment)\n",
    "\n",
    "if sentiment[0] == 0:\n",
    "    print(\"Neutral\")\n",
    "elif sentiment[0] == 1:\n",
    "    print(\"Positive\")\n",
    "elif sentiment[0] == 2:\n",
    "    print(\"Extremely Negative\")\n",
    "elif sentiment[0] == 3:\n",
    "    print(\"Negative\")\n",
    "elif sentiment[0] == 4:\n",
    "    print(\"Extremely positive\")\n",
    "else:\n",
    "    pass"
   ]
  },
  {
   "cell_type": "markdown",
   "id": "d5f2079f",
   "metadata": {},
   "source": [
    "### ***Saving Model***"
   ]
  },
  {
   "cell_type": "code",
   "execution_count": 176,
   "id": "6cb593a2",
   "metadata": {},
   "outputs": [],
   "source": [
    "import joblib"
   ]
  },
  {
   "cell_type": "code",
   "execution_count": 178,
   "id": "00419262",
   "metadata": {},
   "outputs": [
    {
     "data": {
      "text/plain": [
       "['xb_tfidf_model1.pkl']"
      ]
     },
     "execution_count": 178,
     "metadata": {},
     "output_type": "execute_result"
    }
   ],
   "source": [
    "# Save the model to a file\n",
    "joblib.dump(xb_tfidf, 'xb_tfidf_model1.pkl')"
   ]
  },
  {
   "cell_type": "code",
   "execution_count": 187,
   "id": "9cad0a61",
   "metadata": {},
   "outputs": [
    {
     "data": {
      "text/plain": [
       "['vectorizer_model1.pkl']"
      ]
     },
     "execution_count": 187,
     "metadata": {},
     "output_type": "execute_result"
    }
   ],
   "source": [
    "joblib.dump(vectorizer, 'vectorizer_model1.pkl')"
   ]
  },
  {
   "cell_type": "markdown",
   "id": "e6f19979",
   "metadata": {},
   "source": [
    "## ***Best Model***"
   ]
  },
  {
   "cell_type": "code",
   "execution_count": 4,
   "id": "186c6ded",
   "metadata": {},
   "outputs": [
    {
     "name": "stdout",
     "output_type": "stream",
     "text": [
      "+------------+---------+----------+\n",
      "| Vectorizer |  Model  | F1 Score |\n",
      "+------------+---------+----------+\n",
      "|   TFIDF    | Xgboost |  0.7475  |\n",
      "+------------+---------+----------+\n"
     ]
    }
   ],
   "source": [
    "from prettytable import PrettyTable\n",
    "table=PrettyTable()\n",
    "table.field_names = [\"Vectorizer\", \"Model\", \"F1 Score\"] # # http://zetcode.com/python/prettytable/\n",
    "table.add_row([\"TFIDF\", \"Xgboost\", 0.7475])\n",
    "print(table)"
   ]
  },
  {
   "cell_type": "markdown",
   "id": "005b97ec",
   "metadata": {},
   "source": [
    "## ***Best Params***"
   ]
  },
  {
   "cell_type": "code",
   "execution_count": 5,
   "id": "6a11a495",
   "metadata": {},
   "outputs": [
    {
     "name": "stdout",
     "output_type": "stream",
     "text": [
      "+-----------+--------------+-----------+---------------+------------------+\n",
      "| subsample | n_estimators | max_depth | learning_rate | colsample_bytree |\n",
      "+-----------+--------------+-----------+---------------+------------------+\n",
      "|    0.5    |     2000     |     3     |      0.05     |       0.1        |\n",
      "+-----------+--------------+-----------+---------------+------------------+\n"
     ]
    }
   ],
   "source": [
    "table=PrettyTable()\n",
    "table.field_names = [\"subsample\", \"n_estimators\", \"max_depth\", 'learning_rate', 'colsample_bytree'] # # http://zetcode.com/python/prettytable/\n",
    "table.add_row([0.5,2000,3,0.05,0.1])\n",
    "print(table)"
   ]
  },
  {
   "cell_type": "markdown",
   "id": "9af904de",
   "metadata": {},
   "source": [
    "# ***Conclusion***"
   ]
  },
  {
   "cell_type": "markdown",
   "id": "a4f17814",
   "metadata": {},
   "source": [
    "- The sentiment analysis model has a moderate performance. The accuracy of 0.75 indicates that 75% of the predictions made by the model are correct. The precision of 0.76 indicates that when the model predicts a tweet as positive or negative, it is correct 76% of the time. The recall of 0.75 indicates that the model correctly identifies 75% of the positive or negative tweets.\n",
    "\n",
    "- The F1 score of 0.75 is a measure of the model's overall performance, taking into account both precision and recall. A score of 1 indicates perfect precision and recall, while a score of 0 indicates poor performance. A score of 0.75 suggests that the model's performance is moderate, with some room for improvement."
   ]
  }
 ],
 "metadata": {
  "kernelspec": {
   "display_name": "Python 3 (ipykernel)",
   "language": "python",
   "name": "python3"
  },
  "language_info": {
   "codemirror_mode": {
    "name": "ipython",
    "version": 3
   },
   "file_extension": ".py",
   "mimetype": "text/x-python",
   "name": "python",
   "nbconvert_exporter": "python",
   "pygments_lexer": "ipython3",
   "version": "3.9.7"
  }
 },
 "nbformat": 4,
 "nbformat_minor": 5
}
